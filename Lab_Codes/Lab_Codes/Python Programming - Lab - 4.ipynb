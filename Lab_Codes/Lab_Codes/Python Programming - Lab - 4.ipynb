{
 "cells": [
  {
   "cell_type": "markdown",
   "metadata": {},
   "source": [
    "\n",
    "<a href='https://www.darshan.ac.in/'> <img src='https://www.darshan.ac.in/Content/media/DU_Logo.svg' width=\"250\" height=\"300\"/></a>\n",
    "<pre>\n",
    "<center><b><h1>Python Programming - 2301CS404</b></center>\n",
    "<center><b><h1>Lab - 4</b></center>    \n",
    "<pre>"
   ]
  },
  {
   "cell_type": "markdown",
   "metadata": {},
   "source": [
    "# String"
   ]
  },
  {
   "cell_type": "markdown",
   "metadata": {},
   "source": [
    "### 01) WAP to check whether the given string is palindrome or not."
   ]
  },
  {
   "cell_type": "code",
   "execution_count": 5,
   "metadata": {},
   "outputs": [
    {
     "name": "stdout",
     "output_type": "stream",
     "text": [
      "Enter a string:  aba\n"
     ]
    },
    {
     "name": "stdout",
     "output_type": "stream",
     "text": [
      "aba is palindrome\n"
     ]
    }
   ],
   "source": [
    "s = input('Enter a string: ')\n",
    "if s == s[::-1]:\n",
    "    print(f'{s} is palindrome')\n",
    "else:\n",
    "    print(f'{s} is not palindrome')"
   ]
  },
  {
   "cell_type": "markdown",
   "metadata": {},
   "source": [
    "### 02) WAP to reverse the words in the given string."
   ]
  },
  {
   "cell_type": "code",
   "execution_count": 9,
   "metadata": {},
   "outputs": [
    {
     "name": "stdout",
     "output_type": "stream",
     "text": [
      "Enter a string:  hi hello\n"
     ]
    },
    {
     "name": "stdout",
     "output_type": "stream",
     "text": [
      "ih olleh \n"
     ]
    }
   ],
   "source": [
    "s = input('Enter a string: ').split()\n",
    "res = ''\n",
    "for i in s:\n",
    "    res += i[::-1] + ' '\n",
    "print(res)"
   ]
  },
  {
   "cell_type": "code",
   "execution_count": 55,
   "metadata": {},
   "outputs": [
    {
     "name": "stdout",
     "output_type": "stream",
     "text": [
      "Enter a string:  hi hello\n"
     ]
    },
    {
     "name": "stdout",
     "output_type": "stream",
     "text": [
      "hello hi\n"
     ]
    }
   ],
   "source": [
    "s = input('Enter a string: ').split()\n",
    "s.reverse()\n",
    "res = []\n",
    "for i in s:\n",
    "    res.append(i)\n",
    "print(' '.join(res))"
   ]
  },
  {
   "cell_type": "markdown",
   "metadata": {},
   "source": [
    "### 03) WAP to remove ith character from given string."
   ]
  },
  {
   "cell_type": "code",
   "execution_count": 21,
   "metadata": {},
   "outputs": [
    {
     "name": "stdout",
     "output_type": "stream",
     "text": [
      "Enter a string:  abcdefgh\n",
      "Enter an index:  4\n"
     ]
    },
    {
     "name": "stdout",
     "output_type": "stream",
     "text": [
      "abcdfgh\n"
     ]
    }
   ],
   "source": [
    "s = input('Enter a string: ')\n",
    "i = int(input('Enter an index: '))\n",
    "res = s[:i] + s[i+1:]\n",
    "print(res)"
   ]
  },
  {
   "cell_type": "code",
   "execution_count": null,
   "metadata": {},
   "outputs": [],
   "source": []
  },
  {
   "cell_type": "markdown",
   "metadata": {},
   "source": [
    "### 04) WAP to find length of string without using len function."
   ]
  },
  {
   "cell_type": "code",
   "execution_count": 25,
   "metadata": {},
   "outputs": [
    {
     "name": "stdout",
     "output_type": "stream",
     "text": [
      "Enter a string:  my name is dhairya\n"
     ]
    },
    {
     "name": "stdout",
     "output_type": "stream",
     "text": [
      "Length of the string is 18\n"
     ]
    }
   ],
   "source": [
    "s = input('Enter a string: ')\n",
    "length = 0\n",
    "for i in s:\n",
    "    length += 1\n",
    "print(f'Length of the string is {length}')"
   ]
  },
  {
   "cell_type": "markdown",
   "metadata": {},
   "source": [
    "### 05) WAP to print even length word in string."
   ]
  },
  {
   "cell_type": "code",
   "execution_count": 27,
   "metadata": {},
   "outputs": [
    {
     "name": "stdout",
     "output_type": "stream",
     "text": [
      "Enter a string:  my name is dhairya\n"
     ]
    },
    {
     "name": "stdout",
     "output_type": "stream",
     "text": [
      "my, name, is, "
     ]
    }
   ],
   "source": [
    "s = input('Enter a string: ').split()\n",
    "for i in s:\n",
    "    if len(i) % 2 == 0:\n",
    "        print(i, end=', ')"
   ]
  },
  {
   "cell_type": "markdown",
   "metadata": {},
   "source": [
    "### 06) WAP to count numbers of vowels in given string."
   ]
  },
  {
   "cell_type": "code",
   "execution_count": 31,
   "metadata": {},
   "outputs": [
    {
     "name": "stdout",
     "output_type": "stream",
     "text": [
      "Enter a string:  my name is dhairya\n"
     ]
    },
    {
     "name": "stdout",
     "output_type": "stream",
     "text": [
      "Number of vowels in the string are 6\n"
     ]
    }
   ],
   "source": [
    "s = input('Enter a string: ')\n",
    "vowels = 'aeiou'\n",
    "count = 0\n",
    "for i in s:\n",
    "    if i in vowels:\n",
    "        count += 1\n",
    "print(f'Number of vowels in the string are {count}')"
   ]
  },
  {
   "cell_type": "markdown",
   "metadata": {},
   "source": [
    "### 07) WAP to capitalize the first and last character of each word in a string."
   ]
  },
  {
   "cell_type": "code",
   "execution_count": 39,
   "metadata": {},
   "outputs": [
    {
     "name": "stdout",
     "output_type": "stream",
     "text": [
      "Enter a string:  my name is dhairya\n"
     ]
    },
    {
     "name": "stdout",
     "output_type": "stream",
     "text": [
      "MY NamE IS DhairyA \n"
     ]
    }
   ],
   "source": [
    "s = input('Enter a string: ').split()\n",
    "res = ''\n",
    "for i in s:\n",
    "    i = i.capitalize()\n",
    "    i = i[:len(i)-1] + i[len(i)-1].upper()\n",
    "    res += i + ' '\n",
    "print(res)"
   ]
  },
  {
   "cell_type": "markdown",
   "metadata": {},
   "source": [
    "### 08) WAP to convert given array to string."
   ]
  },
  {
   "cell_type": "code",
   "execution_count": 41,
   "metadata": {},
   "outputs": [
    {
     "name": "stdout",
     "output_type": "stream",
     "text": [
      "Enter a space seperated string:  xas xjx\n"
     ]
    },
    {
     "name": "stdout",
     "output_type": "stream",
     "text": [
      "xas xjx\n"
     ]
    }
   ],
   "source": [
    "li = input('Enter a space seperated string: ').split()\n",
    "str = ' '.join(li)\n",
    "print(str)"
   ]
  },
  {
   "cell_type": "markdown",
   "metadata": {},
   "source": [
    "### 09) Check if the password and confirm password is same or not. \n",
    "### In case of only case's mistake, show the error message."
   ]
  },
  {
   "cell_type": "code",
   "execution_count": 61,
   "metadata": {},
   "outputs": [
    {
     "name": "stdout",
     "output_type": "stream",
     "text": [
      "Enter password:  abc\n",
      "Enter confirm password:  Abc\n"
     ]
    },
    {
     "name": "stdout",
     "output_type": "stream",
     "text": [
      "Password and confirm password are not same\n"
     ]
    }
   ],
   "source": [
    "password = input('Enter password: ')\n",
    "confirmPassword = input('Enter confirm password: ')\n",
    "if(password.lower() == confirmPassword.lower()):\n",
    "    if(password != confirmPassword):\n",
    "        print('Password and confirm password are not same')"
   ]
  },
  {
   "cell_type": "markdown",
   "metadata": {},
   "source": [
    "### 10) : Display credit card number. \n",
    "### card no. : 1234 5678 9012 3456\n",
    "### display as  : **** **** **** 3456"
   ]
  },
  {
   "cell_type": "code",
   "execution_count": 71,
   "metadata": {},
   "outputs": [
    {
     "name": "stdout",
     "output_type": "stream",
     "text": [
      "Enter card number:  1234 3456 2345 7890\n"
     ]
    },
    {
     "name": "stdout",
     "output_type": "stream",
     "text": [
      "**** **** **** 7890"
     ]
    }
   ],
   "source": [
    "card_number = input('Enter card number: ')\n",
    "for i in card_number[:len(card_number)-4]:\n",
    "    if i.isdigit():\n",
    "        print('*', end='')\n",
    "    else:\n",
    "        print(i, end='')\n",
    "for i in card_number[len(card_number)-4:]:\n",
    "    print(i, end='')"
   ]
  },
  {
   "cell_type": "markdown",
   "metadata": {},
   "source": [
    "### 11) : Checking if the two strings are Anagram or not.\n",
    "### s1 = decimal and s2 = medical are Anagram"
   ]
  },
  {
   "cell_type": "code",
   "execution_count": 97,
   "metadata": {},
   "outputs": [
    {
     "name": "stdout",
     "output_type": "stream",
     "text": [
      "Enter first string:  abc\n",
      "Enter second string:  Bca\n"
     ]
    },
    {
     "name": "stdout",
     "output_type": "stream",
     "text": [
      "Given strings are anagram\n"
     ]
    }
   ],
   "source": [
    "s1 = input('Enter first string: ')\n",
    "s2 = input('Enter second string: ')\n",
    "if len(s1) == len(s2):\n",
    "    if sorted(s1.lower()) == sorted(s2.lower()):        \n",
    "        print('Given strings are anagram')\n",
    "    else:\n",
    "        print('Given strings are not anagram')\n",
    "else:\n",
    "    print('Given strings are not anagram')"
   ]
  },
  {
   "cell_type": "markdown",
   "metadata": {},
   "source": [
    "### 12) : Rearrange the given string. First lowercase then uppercase alphabets.\n",
    "### input : EHlsarwiwhtwMV\n",
    "### output : lsarwiwhtwEHMV"
   ]
  },
  {
   "cell_type": "code",
   "execution_count": 91,
   "metadata": {},
   "outputs": [
    {
     "name": "stdout",
     "output_type": "stream",
     "text": [
      "Enter a string:  EHlsarwiwhtwMV\n"
     ]
    },
    {
     "name": "stdout",
     "output_type": "stream",
     "text": [
      "lsarwiwhtwEHMV\n"
     ]
    }
   ],
   "source": [
    "s = input('Enter a string: ')\n",
    "res = ''\n",
    "upper = ''\n",
    "for i in s:\n",
    "    if i.islower():\n",
    "        res += i\n",
    "    else:\n",
    "        upper += i\n",
    "res += upper\n",
    "print(res)"
   ]
  }
 ],
 "metadata": {
  "kernelspec": {
   "display_name": "Python 3 (ipykernel)",
   "language": "python",
   "name": "python3"
  },
  "language_info": {
   "codemirror_mode": {
    "name": "ipython",
    "version": 3
   },
   "file_extension": ".py",
   "mimetype": "text/x-python",
   "name": "python",
   "nbconvert_exporter": "python",
   "pygments_lexer": "ipython3",
   "version": "3.12.7"
  },
  "vscode": {
   "interpreter": {
    "hash": "31f2aee4e71d21fbe5cf8b01ff0e069b9275f58929596ceb00d14d90e3e16cd6"
   }
  }
 },
 "nbformat": 4,
 "nbformat_minor": 4
}
