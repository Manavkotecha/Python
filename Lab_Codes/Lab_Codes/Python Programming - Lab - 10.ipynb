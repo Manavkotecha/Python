{
 "cells": [
  {
   "cell_type": "markdown",
   "metadata": {},
   "source": [
    "<a href='https://www.darshan.ac.in/'> <img src='https://www.darshan.ac.in/Content/media/DU_Logo.svg' width=\"250\" height=\"300\"/></a>\n",
    "<pre>\n",
    "<center><b><h1>Python Programming - 2301CS404</b></center>\n",
    "<center><b><h1>Lab - 10</b></center>    \n",
    "<pre>"
   ]
  },
  {
   "cell_type": "markdown",
   "metadata": {},
   "source": [
    "# Exception Handling"
   ]
  },
  {
   "cell_type": "markdown",
   "metadata": {},
   "source": [
    "### 01) WAP to handle following exceptions:\n",
    "1. ZeroDivisionError\n",
    "2. ValueError\n",
    "3. TypeError\n",
    "#### Note: handle them using separate except blocks and also using single except block too."
   ]
  },
  {
   "cell_type": "code",
   "execution_count": 13,
   "metadata": {},
   "outputs": [
    {
     "name": "stdout",
     "output_type": "stream",
     "text": [
      "Enter the num 1: 0\n",
      "Enter the num 2: 9\n",
      "TypeError\n"
     ]
    }
   ],
   "source": [
    "\n",
    "try:\n",
    "    num1 = int(input(\"Enter the num 1: \"))\n",
    "    num2 = int(input(\"Enter the num 2: \"))\n",
    "    a=6+\"jk\"\n",
    "\n",
    "    print(num1/num2)\n",
    "    \n",
    "except ZeroDivisionError:\n",
    "    print(\"ZeroDivison\")\n",
    "    \n",
    "except ValueError:\n",
    "    print(\"ValueError\")\n",
    "    \n",
    "except TypeError:\n",
    "    print(\"TypeError\")"
   ]
  },
  {
   "cell_type": "markdown",
   "metadata": {},
   "source": [
    "### 02)  WAP to handle following exceptions:\n",
    "1. IndexError\n",
    "2. KeyError"
   ]
  },
  {
   "cell_type": "code",
   "execution_count": 18,
   "metadata": {},
   "outputs": [
    {
     "name": "stdout",
     "output_type": "stream",
     "text": [
      "Index Error\n"
     ]
    }
   ],
   "source": [
    "try:\n",
    "    di = {1:'HI',2:'Hello'}\n",
    "    li = ['ferf','erfkbwe','hgwe','fweweuiohfe']\n",
    "    \n",
    "#     Key Error\n",
    "    print(di[5])\n",
    "    \n",
    "#     IndexError\n",
    "    print(li[8])\n",
    "    \n",
    "except IndexError:\n",
    "    print(\"Index Error\")\n",
    "    \n",
    "except KeyError:\n",
    "    print(\"Key Error\")"
   ]
  },
  {
   "cell_type": "markdown",
   "metadata": {},
   "source": [
    "### 03) WAP to handle following exceptions:\n",
    "1. FileNotFoundError\n",
    "2. ModuleNotFoundError"
   ]
  },
  {
   "cell_type": "code",
   "execution_count": 20,
   "metadata": {},
   "outputs": [
    {
     "name": "stdout",
     "output_type": "stream",
     "text": [
      "ModuleNotFoundError\n"
     ]
    }
   ],
   "source": [
    "try:\n",
    "#     FileNotFound\n",
    "    fp = open('Manmav.txt','r')\n",
    "    \n",
    "#  ModuleNotFoundError\n",
    "    import manav\n",
    "    \n",
    "except FileNotFoundError:\n",
    "    print('FileNotFoundError')\n",
    "    \n",
    "except ModuleNotFoundError:\n",
    "    print('ModuleNotFoundError')"
   ]
  },
  {
   "cell_type": "markdown",
   "metadata": {},
   "source": [
    "### 04) WAP that catches all type of exceptions in a single except block."
   ]
  },
  {
   "cell_type": "code",
   "execution_count": 21,
   "metadata": {},
   "outputs": [
    {
     "name": "stdout",
     "output_type": "stream",
     "text": [
      "Exception\n"
     ]
    }
   ],
   "source": [
    "try:\n",
    "    print(10/0)\n",
    "    import manav\n",
    "    fp = open('Manmav.txt','r')\n",
    "    \n",
    "    \n",
    "except:\n",
    "    print(\"Exception Comes\")\n",
    "    "
   ]
  },
  {
   "cell_type": "markdown",
   "metadata": {},
   "source": [
    "### 05) WAP to demonstrate else  and finally block."
   ]
  },
  {
   "cell_type": "code",
   "execution_count": 24,
   "metadata": {},
   "outputs": [
    {
     "name": "stdout",
     "output_type": "stream",
     "text": [
      "1.0\n",
      "NO Exception\n",
      "Code Run Succesfully\n"
     ]
    }
   ],
   "source": [
    "try:\n",
    "    print(10/0)\n",
    "    \n",
    "except:\n",
    "    print(\"Exception Comes\")\n",
    "    \n",
    "else:\n",
    "    print(\"NO Exception\")\n",
    "    \n",
    "finally:\n",
    "    print(\"Code Run Succesfully\")"
   ]
  },
  {
   "cell_type": "markdown",
   "metadata": {},
   "source": [
    "### 06) Create a short program that prompts the user for a list of grades separated by commas. \n",
    "### Split the string into individual grades and use a list comprehension to convert each string to an integer. \n",
    "### You should use a try statement to inform the user when the values they entered cannot be converted."
   ]
  },
  {
   "cell_type": "code",
   "execution_count": 28,
   "metadata": {},
   "outputs": [
    {
     "name": "stdout",
     "output_type": "stream",
     "text": [
      "Enter the grades2,f,32\n",
      "invalid literal for int() with base 10: 'f'\n"
     ]
    }
   ],
   "source": [
    "try:\n",
    "    li = input(\"Enter the grades: \").split(',')\n",
    "    list1 = [int(i) for i in li]\n",
    "    \n",
    "    print(list1)\n",
    "    \n",
    "except Exception as exp:\n",
    "    print(exp)\n",
    "    "
   ]
  },
  {
   "cell_type": "markdown",
   "metadata": {},
   "source": [
    "### 07) WAP to create an udf divide(a,b) that handles ZeroDivisionError."
   ]
  },
  {
   "cell_type": "code",
   "execution_count": 29,
   "metadata": {},
   "outputs": [
    {
     "name": "stdout",
     "output_type": "stream",
     "text": [
      "Exception Comes\n"
     ]
    }
   ],
   "source": [
    "def divide(a,b):\n",
    "    print(a/b)\n",
    "\n",
    "try:\n",
    "    divide(10,0)\n",
    "    \n",
    "except ZeroDivisionError:\n",
    "    print(\"Exception Comes\")"
   ]
  },
  {
   "cell_type": "markdown",
   "metadata": {},
   "source": [
    "### 08) WAP that gets an age of a person form the user and raises ValueError with error message: \"Enter Valid Age\" :\n",
    "#### If the age is less than 18. \n",
    "#### otherwise print the age."
   ]
  },
  {
   "cell_type": "code",
   "execution_count": 38,
   "metadata": {},
   "outputs": [
    {
     "name": "stdout",
     "output_type": "stream",
     "text": [
      "Enter a age: 7\n",
      "Enter Valid Age\n"
     ]
    }
   ],
   "source": [
    "age = int(input(\"Enter a age: \"))\n",
    "\n",
    "try:\n",
    "    if age < 18:\n",
    "        raise ValueError\n",
    "           \n",
    "            \n",
    "except ValueError:\n",
    "     print('Enter Valid Age')\n",
    "        \n",
    "else:\n",
    "    print(age)"
   ]
  },
  {
   "cell_type": "markdown",
   "metadata": {},
   "source": [
    "### 09) WAP to raise your custom Exception named InvalidUsernameError with the error message : \"Username must be between 5 and 15 characters long\":\n",
    "#### if the given name is having characters less than 5 or greater than 15.\n",
    "#### otherwise print the given username."
   ]
  },
  {
   "cell_type": "code",
   "execution_count": 48,
   "metadata": {},
   "outputs": [
    {
     "name": "stdout",
     "output_type": "stream",
     "text": [
      "Enter the Username: foghdfsg\n",
      "foghdfsg\n",
      "<class '__main__.InvalidUsernameError'>\n"
     ]
    }
   ],
   "source": [
    "try:\n",
    "    name = input(\"Enter the Username: \")\n",
    "    \n",
    "    if len(name) < 5 or len(name) > 15:\n",
    "        raise InvalidUsernameError(\"Username must be between 5 and 15 characters long\")\n",
    "        \n",
    "    else:\n",
    "        print(name)\n",
    "        \n",
    "except InvalidUsernameError as exp:\n",
    "    print(exp)\n",
    "    \n",
    "    \n"
   ]
  },
  {
   "cell_type": "markdown",
   "metadata": {},
   "source": [
    "### 10) WAP to raise your custom Exception named NegativeNumberError with the error message : \"Cannot calculate the square root of a negative number\" :\n",
    "#### if the given number is negative.\n",
    "#### otherwise print the square root of the given number."
   ]
  },
  {
   "cell_type": "code",
   "execution_count": 53,
   "metadata": {},
   "outputs": [
    {
     "name": "stdout",
     "output_type": "stream",
     "text": [
      "Enter a number of root: 49\n",
      "7.0\n"
     ]
    }
   ],
   "source": [
    "import math\n",
    "root = int(input(\"Enter a number of root: \"))\n",
    "\n",
    "class NegativeNumberError(Exception):\n",
    "    pass\n",
    "\n",
    "try:\n",
    "    if root < 0:\n",
    "        raise NegativeNumberError(\"Cannot calculate the square root of a negative number\")\n",
    "        \n",
    "    else:\n",
    "        print(math.sqrt(root))\n",
    "        \n",
    "except NegativeNumberError as exp:\n",
    "    print(exp)\n",
    "    "
   ]
  }
 ],
 "metadata": {
  "kernelspec": {
   "display_name": "Python 3 (ipykernel)",
   "language": "python",
   "name": "python3"
  },
  "language_info": {
   "codemirror_mode": {
    "name": "ipython",
    "version": 3
   },
   "file_extension": ".py",
   "mimetype": "text/x-python",
   "name": "python",
   "nbconvert_exporter": "python",
   "pygments_lexer": "ipython3",
   "version": "3.10.9"
  }
 },
 "nbformat": 4,
 "nbformat_minor": 4
}
