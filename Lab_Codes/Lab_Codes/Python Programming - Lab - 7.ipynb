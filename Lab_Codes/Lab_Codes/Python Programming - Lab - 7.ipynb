{
 "cells": [
  {
   "cell_type": "markdown",
   "metadata": {},
   "source": [
    "<a href='https://www.darshan.ac.in/'> <img src='https://www.darshan.ac.in/Content/media/DU_Logo.svg' width=\"250\" height=\"300\"/></a>\n",
    "<pre>\n",
    "<center><b><h1>Python Programming - 2301CS404</b></center>\n",
    "<center><b><h1>Lab - 7</b></center>    \n",
    "<pre>"
   ]
  },
  {
   "cell_type": "markdown",
   "metadata": {},
   "source": [
    "# Set & Dictionary"
   ]
  },
  {
   "cell_type": "markdown",
   "metadata": {},
   "source": [
    "### 01) WAP to iterate over a set."
   ]
  },
  {
   "cell_type": "code",
   "execution_count": 3,
   "metadata": {},
   "outputs": [
    {
     "name": "stdout",
     "output_type": "stream",
     "text": [
      "1\n",
      "2\n",
      "3\n",
      "4\n",
      "5\n"
     ]
    }
   ],
   "source": [
    "s1 = {1,2,3,4,5}\n",
    "for i in s1:\n",
    "    print(i)"
   ]
  },
  {
   "cell_type": "markdown",
   "metadata": {},
   "source": [
    "### 02) WAP to convert set into list, string and tuple."
   ]
  },
  {
   "cell_type": "code",
   "execution_count": 15,
   "metadata": {},
   "outputs": [
    {
     "name": "stdout",
     "output_type": "stream",
     "text": [
      "List is [1, 2, 3, 4, 5]\n",
      "Tuple is (1, 2, 3, 4, 5)\n",
      "String is 12345\n"
     ]
    }
   ],
   "source": [
    "s1 = {1,2,3,4,5}\n",
    "\n",
    "l1 = list(s1)\n",
    "print(f\"List is {l1}\")\n",
    "\n",
    "t1 =tuple(s1)\n",
    "print(f\"Tuple is {t1}\")\n",
    "\n",
    "str1 = ''\n",
    "for i in s1:\n",
    "    str1 += str(i)\n",
    "print(f\"String is {str1}\")"
   ]
  },
  {
   "cell_type": "markdown",
   "metadata": {},
   "source": [
    "### 03) WAP to find Maximum and Minimum from a set."
   ]
  },
  {
   "cell_type": "code",
   "execution_count": 17,
   "metadata": {},
   "outputs": [
    {
     "name": "stdout",
     "output_type": "stream",
     "text": [
      "5\n",
      "1\n"
     ]
    }
   ],
   "source": [
    "s1 = {1,2,3,4,5}\n",
    "min1 = min(s1)\n",
    "max1 = max(s1)\n",
    "\n",
    "print(max1)\n",
    "print(min1)"
   ]
  },
  {
   "cell_type": "markdown",
   "metadata": {},
   "source": [
    "### 04) WAP to perform union of two sets."
   ]
  },
  {
   "cell_type": "code",
   "execution_count": 23,
   "metadata": {},
   "outputs": [
    {
     "name": "stdout",
     "output_type": "stream",
     "text": [
      "{1, 2, 3, 4, 5, 6, 7, 8, 9, 10}\n"
     ]
    }
   ],
   "source": [
    "s1 = {1,2,3,4,5,6}\n",
    "s2 = {6,7,8,9,10}\n",
    "s3 = s1.union(s2)\n",
    "print(s3)"
   ]
  },
  {
   "cell_type": "markdown",
   "metadata": {},
   "source": [
    "### 05) WAP to check if two lists have at-least one element common."
   ]
  },
  {
   "cell_type": "code",
   "execution_count": 24,
   "metadata": {},
   "outputs": [
    {
     "name": "stdout",
     "output_type": "stream",
     "text": [
      "{6}\n"
     ]
    }
   ],
   "source": [
    "\n",
    "print(s1.intersection(s2))"
   ]
  },
  {
   "cell_type": "markdown",
   "metadata": {},
   "source": [
    "### 06) WAP to remove duplicates from list."
   ]
  },
  {
   "cell_type": "code",
   "execution_count": 26,
   "metadata": {},
   "outputs": [
    {
     "name": "stdout",
     "output_type": "stream",
     "text": [
      "{1, 561, 51, 56413, 5631}\n"
     ]
    }
   ],
   "source": [
    "l1 = [1,1,56413,561,51,5631,51,51,51]\n",
    "s1 = set(l1)\n",
    "print(s1)"
   ]
  },
  {
   "cell_type": "markdown",
   "metadata": {},
   "source": [
    "### 07) WAP to find unique words in the given string."
   ]
  },
  {
   "cell_type": "code",
   "execution_count": 28,
   "metadata": {},
   "outputs": [
    {
     "name": "stdout",
     "output_type": "stream",
     "text": [
      "Enter the stringhello hello how are re you you \n",
      "{'how', 'hello', 'are', 'you', 're'}\n"
     ]
    }
   ],
   "source": [
    "str1 = input(\"Enter the string\").split()\n",
    "l1 = set(str1)\n",
    "print(l1)\n"
   ]
  },
  {
   "cell_type": "markdown",
   "metadata": {},
   "source": [
    "### 08) WAP to remove common elements of set A & B from set A."
   ]
  },
  {
   "cell_type": "code",
   "execution_count": 33,
   "metadata": {},
   "outputs": [
    {
     "name": "stdout",
     "output_type": "stream",
     "text": [
      "{1, 2, 3, 4, 5}\n"
     ]
    }
   ],
   "source": [
    "s1 = {1,2,3,4,5,6}\n",
    "s2 = {6,7,8,9,10}\n",
    "s3 = s1.difference_update(s2)\n",
    "print(s1)"
   ]
  },
  {
   "cell_type": "markdown",
   "metadata": {},
   "source": [
    "### 09) WAP to check whether two given strings are anagram or not using set."
   ]
  },
  {
   "cell_type": "code",
   "execution_count": 34,
   "metadata": {},
   "outputs": [
    {
     "name": "stdout",
     "output_type": "stream",
     "text": [
      "Anagram\n"
     ]
    }
   ],
   "source": [
    "s1 = 'listen'\n",
    "s2 = 'silent'\n",
    "sets1 = set(s1)\n",
    "sets2 = set(s2)\n",
    "\n",
    "if sets1 == sets2:\n",
    "    print(\"Anagram\")\n",
    "\n",
    "else:\n",
    "    print(\"Not Anagram\")\n",
    "    "
   ]
  },
  {
   "cell_type": "markdown",
   "metadata": {},
   "source": [
    "### 10) WAP to find common elements in three lists using set."
   ]
  },
  {
   "cell_type": "code",
   "execution_count": 35,
   "metadata": {},
   "outputs": [
    {
     "name": "stdout",
     "output_type": "stream",
     "text": [
      "{6}\n"
     ]
    }
   ],
   "source": [
    "s1 = [1,2,3,4,5,6]\n",
    "s2 = [6,7,8,9,10]\n",
    "s3 = [6,1,1,51,2,0,26]\n",
    "\n",
    "sets1 = set(s1)\n",
    "sets2 = set(s2)\n",
    "sets3 = set(s3)\n",
    "\n",
    "print(sets1 & sets2 & sets3)\n"
   ]
  },
  {
   "cell_type": "markdown",
   "metadata": {},
   "source": [
    "### 11) WAP to count number of vowels in given string using set."
   ]
  },
  {
   "cell_type": "code",
   "execution_count": 40,
   "metadata": {},
   "outputs": [
    {
     "name": "stdout",
     "output_type": "stream",
     "text": [
      "8\n"
     ]
    }
   ],
   "source": [
    "str1 = \"hi hello how are you \"\n",
    "count = 0\n",
    "vowels = {'a','e','i','o','u'}\n",
    "for i in str1:\n",
    "    if i in vowels:\n",
    "        count +=1\n",
    "print(count)    "
   ]
  },
  {
   "cell_type": "markdown",
   "metadata": {},
   "source": [
    "### 12) WAP to check if a given string is binary string or not."
   ]
  },
  {
   "cell_type": "code",
   "execution_count": 46,
   "metadata": {},
   "outputs": [
    {
     "name": "stdout",
     "output_type": "stream",
     "text": [
      "Binary\n"
     ]
    }
   ],
   "source": [
    "str1 = \"0101010101010101010101\"\n",
    "set1 = set(str1)\n",
    "binary ={\"0\",\"1\"}\n",
    "\n",
    "if(set1 == binary):\n",
    "    print(\"Binary\")\n",
    "else:\n",
    "    print(\"not\")\n"
   ]
  },
  {
   "cell_type": "markdown",
   "metadata": {},
   "source": [
    "### 13) WAP to sort dictionary by key or value."
   ]
  },
  {
   "cell_type": "code",
   "execution_count": 50,
   "metadata": {},
   "outputs": [
    {
     "name": "stdout",
     "output_type": "stream",
     "text": [
      "{1: 21, 2: 32, 3: 96, 4: 43, 5: 490, 6: 489}\n"
     ]
    }
   ],
   "source": [
    "d1 = {1:21,2:32,4:43,3:96,6:489,5:490}\n",
    "\n",
    "sortdict = dict(sorted(d1.items(), key = lambda i:i[0]))\n",
    "print(sortdict)\n"
   ]
  },
  {
   "cell_type": "markdown",
   "metadata": {},
   "source": [
    "### 14) WAP to find the sum of all items (values) in a dictionary given by user. (Assume: values are numeric)"
   ]
  },
  {
   "cell_type": "code",
   "execution_count": 52,
   "metadata": {},
   "outputs": [
    {
     "name": "stdout",
     "output_type": "stream",
     "text": [
      "1171\n"
     ]
    }
   ],
   "source": [
    "print(sum(d1.values()))"
   ]
  },
  {
   "cell_type": "markdown",
   "metadata": {},
   "source": [
    "### 15) WAP to handle missing keys in dictionaries.\n",
    "#### Example : Given, dict1 = {'a': 5, 'c': 8, 'e': 2} \n",
    "#### if you look for key = 'd', the message given should be 'Key Not Found', otherwise print the value of 'd' in dict1."
   ]
  },
  {
   "cell_type": "code",
   "execution_count": 54,
   "metadata": {},
   "outputs": [
    {
     "name": "stdout",
     "output_type": "stream",
     "text": [
      "Enter value of keys to found: g\n",
      "Key Not found\n"
     ]
    }
   ],
   "source": [
    "dict1 = {'a': 5, 'c': 8, 'e': 2}\n",
    "key = input(\"Enter value of keys to found: \")\n",
    "\n",
    "if (key in dict1.keys()):\n",
    "    print(dict1[key])\n",
    "else:\n",
    "    print(\"Key Not found\")"
   ]
  }
 ],
 "metadata": {
  "kernelspec": {
   "display_name": "Python 3 (ipykernel)",
   "language": "python",
   "name": "python3"
  },
  "language_info": {
   "codemirror_mode": {
    "name": "ipython",
    "version": 3
   },
   "file_extension": ".py",
   "mimetype": "text/x-python",
   "name": "python",
   "nbconvert_exporter": "python",
   "pygments_lexer": "ipython3",
   "version": "3.10.9"
  }
 },
 "nbformat": 4,
 "nbformat_minor": 4
}
