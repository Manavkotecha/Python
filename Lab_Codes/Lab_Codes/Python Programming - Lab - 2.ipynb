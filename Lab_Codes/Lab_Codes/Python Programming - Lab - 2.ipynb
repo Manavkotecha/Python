{
 "cells": [
  {
   "cell_type": "markdown",
   "metadata": {},
   "source": [
    "\n",
    "<a href='https://www.darshan.ac.in/'> <img src='https://www.darshan.ac.in/Content/media/DU_Logo.svg' width=\"250\" height=\"300\"/></a>\n",
    "<pre>\n",
    "<center><b><h1>Python Programming - 2301CS404</b></center>\n",
    "<center><b><h1>Lab - 2</b></center>    \n",
    "<pre>"
   ]
  },
  {
   "cell_type": "markdown",
   "metadata": {},
   "source": [
    "# if..else.."
   ]
  },
  {
   "cell_type": "markdown",
   "metadata": {},
   "source": [
    "### 01) WAP to check whether the given number is positive or negative."
   ]
  },
  {
   "cell_type": "code",
   "execution_count": 61,
   "metadata": {},
   "outputs": [
    {
     "name": "stdin",
     "output_type": "stream",
     "text": [
      "Enter a number:  3\n"
     ]
    },
    {
     "name": "stdout",
     "output_type": "stream",
     "text": [
      "3 is positive\n"
     ]
    }
   ],
   "source": [
    "num = int(input('Enter a number: '))\n",
    "if(num >= 0):\n",
    "    print(f'{num} is positive')\n",
    "\n",
    "else:\n",
    "    print(f'{num} is negative')"
   ]
  },
  {
   "cell_type": "markdown",
   "metadata": {},
   "source": [
    "### 02) WAP to check whether the given number is odd or even."
   ]
  },
  {
   "cell_type": "code",
   "execution_count": 11,
   "metadata": {},
   "outputs": [
    {
     "name": "stdin",
     "output_type": "stream",
     "text": [
      "Enter a number: 5\n"
     ]
    },
    {
     "name": "stdout",
     "output_type": "stream",
     "text": [
      "5 is odd\n"
     ]
    }
   ],
   "source": [
    "num = int(input('Enter a number:'))\n",
    "if(num % 2 == 0):\n",
    "    print(f'{num} is even')\n",
    "\n",
    "else:\n",
    "    print(f'{num} is odd')"
   ]
  },
  {
   "cell_type": "markdown",
   "metadata": {},
   "source": [
    "### 03) WAP to find out largest number from given two numbers using simple if and ternary operator."
   ]
  },
  {
   "cell_type": "code",
   "execution_count": 17,
   "metadata": {},
   "outputs": [
    {
     "name": "stdin",
     "output_type": "stream",
     "text": [
      "Enter first number: 4\n",
      "Enter second number: 9\n"
     ]
    },
    {
     "name": "stdout",
     "output_type": "stream",
     "text": [
      "9 is largest\n"
     ]
    }
   ],
   "source": [
    "a = int(input('Enter first number:'))\n",
    "b = int(input('Enter second number:'))\n",
    "print(f'{a} is lergest') if (a > b) else print(f'{b} is largest')"
   ]
  },
  {
   "cell_type": "markdown",
   "metadata": {},
   "source": [
    "### 04) WAP to find out largest number from given three numbers."
   ]
  },
  {
   "cell_type": "code",
   "execution_count": 19,
   "metadata": {},
   "outputs": [
    {
     "name": "stdin",
     "output_type": "stream",
     "text": [
      "Enter first number: 34\n",
      "Enter second number: 56\n",
      "Enter third number: 3\n"
     ]
    },
    {
     "name": "stdout",
     "output_type": "stream",
     "text": [
      "56 is largest\n"
     ]
    }
   ],
   "source": [
    "a = int(input('Enter first number:'))\n",
    "b = int(input('Enter second number:'))\n",
    "c = int(input('Enter third number:'))\n",
    "if(a > b):\n",
    "    if(a > c):\n",
    "        print(f'{a} is largest')\n",
    "    else:\n",
    "        print(f'{c} is largest')\n",
    "\n",
    "else:\n",
    "    if(b > c):\n",
    "        print(f'{b} is largest')\n",
    "    else:\n",
    "        print(f'{c} is largest')"
   ]
  },
  {
   "cell_type": "markdown",
   "metadata": {},
   "source": [
    "### 05) WAP to check whether the given year is leap year or not.\n",
    "[If a year can be divisible by 4 but not divisible by 100 then it is leap year but if it is divisible by 400 then it is leap year]"
   ]
  },
  {
   "cell_type": "code",
   "execution_count": 21,
   "metadata": {},
   "outputs": [
    {
     "name": "stdin",
     "output_type": "stream",
     "text": [
      "Enter year:  2024\n"
     ]
    },
    {
     "name": "stdout",
     "output_type": "stream",
     "text": [
      "2024 is a leap year\n"
     ]
    }
   ],
   "source": [
    "year = int(input('Enter year: '))\n",
    "if((year%4 == 0 and year%100 != 0) or (year%400 == 0)):\n",
    "    print(f'{year} is a leap year')\n",
    "\n",
    "else:\n",
    "    print(f'{year} is not a leap year')"
   ]
  },
  {
   "cell_type": "markdown",
   "metadata": {},
   "source": [
    "### 06) WAP in python to display the name of the day according to the number given by the user."
   ]
  },
  {
   "cell_type": "code",
   "execution_count": 23,
   "metadata": {},
   "outputs": [
    {
     "name": "stdin",
     "output_type": "stream",
     "text": [
      "Enter a number between 1 to 7:  5\n"
     ]
    },
    {
     "name": "stdout",
     "output_type": "stream",
     "text": [
      "Friday\n"
     ]
    }
   ],
   "source": [
    "day = int(input('Enter a number between 1 to 7: '))\n",
    "match day:\n",
    "    case 1: print('Monday')\n",
    "    case 2: print('Tuesday')\n",
    "    case 3: print('Wednesday')\n",
    "    case 4: print('Thursday')\n",
    "    case 5: print('Friday')\n",
    "    case 6: print('Saturday')\n",
    "    case 7: print('Sunday')"
   ]
  },
  {
   "cell_type": "markdown",
   "metadata": {},
   "source": [
    "### 07) WAP to implement simple calculator which performs (add,sub,mul,div) of two no. based on user input."
   ]
  },
  {
   "cell_type": "code",
   "execution_count": 29,
   "metadata": {},
   "outputs": [
    {
     "name": "stdin",
     "output_type": "stream",
     "text": [
      "Enter first number:  5\n",
      "Enter second number:  2\n",
      "Enter + for addition, - for subtraction, * for multiplication, / for division:  /\n"
     ]
    },
    {
     "name": "stdout",
     "output_type": "stream",
     "text": [
      "5 / 2 = 2.5\n"
     ]
    }
   ],
   "source": [
    "a = int(input('Enter first number: '))\n",
    "b = int(input('Enter second number: '))\n",
    "op = input('Enter + for addition, - for subtraction, * for multiplication, / for division: ')\n",
    "match op:\n",
    "    case '+':\n",
    "        print(f'{a} + {b} = {a+b}')\n",
    "    case '-':\n",
    "        print(f'{a} - {b} = {a-b}')\n",
    "    case '*':\n",
    "        print(f'{a} * {b} = {a*b}')\n",
    "    case '/':\n",
    "        if(b == 0):\n",
    "            print('A number cannot be divided by 0')\n",
    "        else:\n",
    "            print(f'{a} / {b} = {a/b}')"
   ]
  },
  {
   "cell_type": "markdown",
   "metadata": {},
   "source": [
    "### 08) WAP to read marks of five subjects. Calculate percentage and print class accordingly. \n",
    "Fail below 35 </br>\n",
    "Pass Class between 35 to 45 </br>\n",
    "Second Class</br>\n",
    "between 45 to 60</br>\n",
    "First Class between 60 to 70</br> \n",
    "Distinction if more than 70"
   ]
  },
  {
   "cell_type": "code",
   "execution_count": 39,
   "metadata": {},
   "outputs": [
    {
     "name": "stdin",
     "output_type": "stream",
     "text": [
      "Enter marks of subject 1:  34\n",
      "Enter marks of subject 2:  56\n",
      "Enter marks of subject 3:  78\n",
      "Enter marks of subject 4:  90\n",
      "Enter marks of subject 5:  100\n"
     ]
    },
    {
     "name": "stdout",
     "output_type": "stream",
     "text": [
      "71.6% Distiction\n"
     ]
    }
   ],
   "source": [
    "sub1 = int(input('Enter marks of subject 1: '))\n",
    "sub2 = int(input('Enter marks of subject 2: '))\n",
    "sub3 = int(input('Enter marks of subject 3: '))\n",
    "sub4 = int(input('Enter marks of subject 4: '))\n",
    "sub5 = int(input('Enter marks of subject 5: '))\n",
    "total = sub1 + sub2 + sub3 + sub4 + sub5\n",
    "pct = total*100/500\n",
    "print(f'{pct}%', end=' ')\n",
    "if(pct < 35):\n",
    "    print('Fail')\n",
    "elif(pct>=35 and pct<45):\n",
    "    print('Pass')\n",
    "elif(pct>=45 and pct<60):\n",
    "    print('Second class')\n",
    "elif(pct>=60 and pct<70):\n",
    "    print('First class')\n",
    "else:\n",
    "    print('Distiction')"
   ]
  },
  {
   "cell_type": "markdown",
   "metadata": {},
   "source": [
    "### 09) Three sides of a triangle are entered through the keyboard, WAP to check whether the triangle is isosceles, equilateral, scalene or right-angled triangle."
   ]
  },
  {
   "cell_type": "code",
   "execution_count": 49,
   "metadata": {},
   "outputs": [
    {
     "name": "stdin",
     "output_type": "stream",
     "text": [
      "Enter side 1:  3\n",
      "Enter side 2:  4\n",
      "Enter side 3:  5\n"
     ]
    },
    {
     "name": "stdout",
     "output_type": "stream",
     "text": [
      "Scalen and Righr Angled Triangle\n"
     ]
    }
   ],
   "source": [
    "side1 = int(input('Enter side 1: '))\n",
    "side2 = int(input('Enter side 2: '))\n",
    "side3 = int(input('Enter side 3: '))\n",
    "if(side1 == side2 == side3):\n",
    "    print('Equilateral Triangle')\n",
    "elif(side1 == side2 or side1 == side3 or side2 == side3):\n",
    "    print('Isoscoles Triangle')\n",
    "else:\n",
    "    if((pow(side1, 2) == pow(side2, 2) + pow(side3, 2)) or (pow(side2, 2) == pow(side1, 2) + pow(side3, 2)) or (pow(side3, 2) == pow(side2, 2) + pow(side1, 2))):\n",
    "        print('Scalen and Righr Angled Triangle')\n",
    "    else:\n",
    "        print('Scalen Triangle')"
   ]
  },
  {
   "cell_type": "markdown",
   "metadata": {},
   "source": [
    "### 10) WAP to find the second largest number among three user input numbers."
   ]
  },
  {
   "cell_type": "code",
   "execution_count": 57,
   "metadata": {},
   "outputs": [
    {
     "name": "stdin",
     "output_type": "stream",
     "text": [
      "Enter first number:  45\n",
      "Enter second number:  6\n",
      "Enter third number:  30\n"
     ]
    },
    {
     "name": "stdout",
     "output_type": "stream",
     "text": [
      "30 is second largest\n"
     ]
    }
   ],
   "source": [
    "a = int(input('Enter first number: '))\n",
    "b = int(input('Enter second number: '))\n",
    "c = int(input('Enter third number: '))\n",
    "if((a>b and a<c) or (a>c and a<b)):\n",
    "    print(f'{a} is second largest')\n",
    "elif((b>a and b<c) or (b>c and b<a)):\n",
    "    print(f'{b} is second largest')\n",
    "else:\n",
    "    print(f'{c} is second largest')"
   ]
  },
  {
   "cell_type": "markdown",
   "metadata": {},
   "source": [
    "### 11) WAP to calculate electricity bill based on following criteria. Which takes the unit from the user.\n",
    "a. First 1 to 50 units – Rs. 2.60/unit</br>\n",
    "b. Next 50 to 100 units – Rs. 3.25/unit</br>\n",
    "c. Next 100 to 200 units – Rs. 5.26/unit</br>\n",
    "d. above 200 units – Rs. 8.45/unit"
   ]
  },
  {
   "cell_type": "code",
   "execution_count": 59,
   "metadata": {},
   "outputs": [
    {
     "name": "stdin",
     "output_type": "stream",
     "text": [
      "Enter units:  34\n"
     ]
    },
    {
     "name": "stdout",
     "output_type": "stream",
     "text": [
      "Bill is 88.4 rs\n"
     ]
    }
   ],
   "source": [
    "units = int(input('Enter units: '))\n",
    "if(units>=1 and units<50):\n",
    "    print(f'Bill is {units*2.60} rs')\n",
    "elif(units>=50 and units<100):\n",
    "    print(f'Bill is {units*3.25} rs')\n",
    "elif(units>=100 and units<200):\n",
    "    print(f'Bill is {units*5.26} rs')\n",
    "else:\n",
    "    print(f'Bill is {units*8.45} rs')"
   ]
  }
 ],
 "metadata": {
  "kernelspec": {
   "display_name": "Python 3 (ipykernel)",
   "language": "python",
   "name": "python3"
  },
  "language_info": {
   "codemirror_mode": {
    "name": "ipython",
    "version": 3
   },
   "file_extension": ".py",
   "mimetype": "text/x-python",
   "name": "python",
   "nbconvert_exporter": "python",
   "pygments_lexer": "ipython3",
   "version": "3.12.7"
  }
 },
 "nbformat": 4,
 "nbformat_minor": 4
}
