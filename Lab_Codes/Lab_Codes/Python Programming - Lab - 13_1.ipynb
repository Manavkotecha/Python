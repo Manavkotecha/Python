{
 "cells": [
  {
   "cell_type": "markdown",
   "metadata": {},
   "source": [
    "<a href='https://www.darshan.ac.in/'> <img src='https://www.darshan.ac.in/Content/media/DU_Logo.svg' width=\"250\" height=\"300\"/></a>\n",
    "<pre>\n",
    "<center><b><h1>Python Programming - 2301CS404</b></center>\n",
    "<center><b><h1>Lab - 13</b></center>    \n",
    "<pre>"
   ]
  },
  {
   "cell_type": "markdown",
   "metadata": {},
   "source": [
    "Dhairya Bhatt\n",
    "23010101023"
   ]
  },
  {
   "cell_type": "markdown",
   "metadata": {},
   "source": [
    "# OOP"
   ]
  },
  {
   "cell_type": "markdown",
   "metadata": {},
   "source": [
    "### 01) Write a Program to create a class by name Students, and initialize attributes like name, age, and grade while creating an object."
   ]
  },
  {
   "cell_type": "code",
   "execution_count": 8,
   "metadata": {},
   "outputs": [
    {
     "name": "stdout",
     "output_type": "stream",
     "text": [
      "Dhairya 19 C\n"
     ]
    }
   ],
   "source": [
    "class Students:\n",
    "    name = ''\n",
    "    age = 18\n",
    "    grade = ''\n",
    "    def __init__(self, name, age, grade):\n",
    "        self.name = name\n",
    "        self.age = age\n",
    "        self.grade = grade\n",
    "\n",
    "    def get_details(self):\n",
    "        print(self.name, self.age, self.grade)\n",
    "\n",
    "s1 = Students('Dhairya', 19, 'C')\n",
    "s1.get_details()"
   ]
  },
  {
   "cell_type": "markdown",
   "metadata": {},
   "source": [
    "### 02) Create a class named Bank_Account with Account_No, User_Name, Email,Account_Type and Account_Balance data members. Also create a method GetAccountDetails() and DisplayAccountDetails(). Create main method to demonstrate the Bank_Account class."
   ]
  },
  {
   "cell_type": "code",
   "execution_count": 1,
   "metadata": {},
   "outputs": [
    {
     "name": "stdout",
     "output_type": "stream",
     "text": [
      "1023903 Dhairya Bhatt dhairya@gmail.com Saving 5000000\n"
     ]
    }
   ],
   "source": [
    "class Bank_Account:\n",
    "    def GetAccountDetails(self, Account_No, User_Name, Email, Account_Type, Account_Balance):\n",
    "        self.Account_No = Account_No\n",
    "        self.User_Name = User_Name\n",
    "        self.Email = Email\n",
    "        self.Account_Type = Account_Type\n",
    "        self.Account_Balance = Account_Balance\n",
    "\n",
    "    def DisplayAccountDetails(self):\n",
    "        print(self.Account_No, self.User_Name, self.Email, self.Account_Type, self.Account_Balance)\n",
    "\n",
    "b1 = Bank_Account()\n",
    "b1.GetAccountDetails('1023903', 'Dhairya Bhatt', 'dhairya@gmail.com', 'Saving', 5000000)\n",
    "b1.DisplayAccountDetails()"
   ]
  },
  {
   "cell_type": "markdown",
   "metadata": {},
   "source": [
    "### 03) WAP to create Circle class with area and perimeter function to find area and perimeter of circle."
   ]
  },
  {
   "cell_type": "code",
   "execution_count": 7,
   "metadata": {},
   "outputs": [
    {
     "name": "stdout",
     "output_type": "stream",
     "text": [
      "28.274333882308138\n",
      "18.84955592153876\n"
     ]
    }
   ],
   "source": [
    "import math\n",
    "\n",
    "class Circle:\n",
    "    def __init__(self, radius):\n",
    "        self.radius = radius\n",
    "\n",
    "    def area(self):\n",
    "        return math.pi * self.radius**2\n",
    "\n",
    "    def perimeter(self):\n",
    "        return 2 * math.pi * self.radius\n",
    "\n",
    "c1 = Circle(3)\n",
    "print(c1.area())\n",
    "print(c1.perimeter())"
   ]
  },
  {
   "cell_type": "markdown",
   "metadata": {},
   "source": [
    "### 04) Create a class for employees that includes attributes such as name, age, salary, and methods to update and display employee information."
   ]
  },
  {
   "cell_type": "code",
   "execution_count": 8,
   "metadata": {},
   "outputs": [
    {
     "name": "stdout",
     "output_type": "stream",
     "text": [
      "Dhairya 19 100000\n",
      "Dhairya Bhatt 19 300000\n"
     ]
    }
   ],
   "source": [
    "class Employee:\n",
    "    def __init__(self, name, age, salary):\n",
    "        self.name = name\n",
    "        self.age = age\n",
    "        self.salary = salary\n",
    "\n",
    "    def update_info(self, name, age, salary):\n",
    "        self.name = name\n",
    "        self.age = age\n",
    "        self.salary = salary\n",
    "\n",
    "    def display(self):\n",
    "        print(self.name, self.age, self.salary)\n",
    "\n",
    "e1 = Employee('Dhairya', 19, 100000)\n",
    "e1.display()\n",
    "e1.update_info('Dhairya Bhatt', 19, 300000)\n",
    "e1.display()"
   ]
  },
  {
   "cell_type": "markdown",
   "metadata": {},
   "source": [
    "### 05) Create a bank account class with methods to deposit, withdraw, and check balance."
   ]
  },
  {
   "cell_type": "code",
   "execution_count": 9,
   "metadata": {},
   "outputs": [
    {
     "name": "stdout",
     "output_type": "stream",
     "text": [
      "50000\n",
      "Money deposited\n",
      "55000\n",
      "Money withdrawn\n",
      "45000\n"
     ]
    }
   ],
   "source": [
    "class Bank_Account:\n",
    "    def __init__(self, balance):\n",
    "        self.__balance = balance\n",
    "\n",
    "    def deposit(self, money):\n",
    "        self.__balance += money\n",
    "        print('Money deposited')\n",
    "\n",
    "    def withdraw(self, money):\n",
    "        if money > self.__balance:\n",
    "            print('Not enough balance')\n",
    "        else:\n",
    "            self.__balance -= money\n",
    "            print('Money withdrawn')\n",
    "\n",
    "    def check_balance(self):\n",
    "        print(self.__balance)\n",
    "\n",
    "b1 = Bank_Account(50000)\n",
    "b1.check_balance()\n",
    "b1.deposit(5000)\n",
    "b1.check_balance()\n",
    "b1.withdraw(10000)\n",
    "b1.check_balance()"
   ]
  },
  {
   "cell_type": "markdown",
   "metadata": {},
   "source": [
    "### 06) Create a class for managing inventory that includes attributes such as item name, price, quantity, and methods to add, remove, and update items."
   ]
  },
  {
   "cell_type": "code",
   "execution_count": 10,
   "metadata": {},
   "outputs": [
    {
     "name": "stdout",
     "output_type": "stream",
     "text": [
      "Added 5 of Laptop to inventory.\n",
      "Added 10 of Mouse to inventory.\n",
      "Laptop: Price = 50000, Quantity = 5\n",
      "Mouse: Price = 1000, Quantity = 10\n",
      "Removed 3 of Mouse from inventory.\n",
      "Updated Laptop in inventory.\n",
      "Laptop: Price = 48000, Quantity = 5\n",
      "Mouse: Price = 1000, Quantity = 7\n"
     ]
    }
   ],
   "source": [
    "class Inventory:\n",
    "    def __init__(self):\n",
    "        self.items = {}\n",
    "\n",
    "    def add_item(self, name, price, quantity):\n",
    "        if name in self.items:\n",
    "            self.items[name]['quantity'] += quantity\n",
    "        else:\n",
    "            self.items[name] = {'price': price, 'quantity': quantity}\n",
    "        print(f\"Added {quantity} of {name} to inventory.\")\n",
    "\n",
    "    def remove_item(self, name, quantity):\n",
    "        if name in self.items:\n",
    "            if self.items[name]['quantity'] >= quantity:\n",
    "                self.items[name]['quantity'] -= quantity\n",
    "                if self.items[name]['quantity'] == 0:\n",
    "                    del self.items[name]\n",
    "                print(f\"Removed {quantity} of {name} from inventory.\")\n",
    "            else:\n",
    "                print(f\"Not enough {name} in stock to remove {quantity}.\")\n",
    "        else:\n",
    "            print(f\"{name} not found in inventory.\")\n",
    "\n",
    "    def update_item(self, name, price=None, quantity=None):\n",
    "        if name in self.items:\n",
    "            if price is not None:\n",
    "                self.items[name]['price'] = price\n",
    "            if quantity is not None:\n",
    "                self.items[name]['quantity'] = quantity\n",
    "            print(f\"Updated {name} in inventory.\")\n",
    "        else:\n",
    "            print(f\"{name} not found in inventory.\")\n",
    "\n",
    "    def display_inventory(self):\n",
    "        if not self.items:\n",
    "            print(\"Inventory is empty.\")\n",
    "        else:\n",
    "            for name, details in self.items.items():\n",
    "                print(f\"{name}: Price = {details['price']}, Quantity = {details['quantity']}\")\n",
    "\n",
    "inventory = Inventory()\n",
    "inventory.add_item(\"Laptop\", 50000, 5)\n",
    "inventory.add_item(\"Mouse\", 1000, 10)\n",
    "inventory.display_inventory()\n",
    "inventory.remove_item(\"Mouse\", 3)\n",
    "inventory.update_item(\"Laptop\", price=48000)\n",
    "inventory.display_inventory()"
   ]
  },
  {
   "cell_type": "markdown",
   "metadata": {},
   "source": [
    "### 07) Create a Class with instance attributes of your choice."
   ]
  },
  {
   "cell_type": "code",
   "execution_count": 11,
   "metadata": {},
   "outputs": [
    {
     "name": "stdout",
     "output_type": "stream",
     "text": [
      "Car Details:\n",
      "Brand: Toyota\n",
      "Model: Camry\n",
      "Year: 2023\n",
      "Color: Black\n",
      "Price: 30000\n"
     ]
    }
   ],
   "source": [
    "class Car:\n",
    "    def __init__(self, brand, model, year, color, price):\n",
    "        self.brand = brand\n",
    "        self.model = model\n",
    "        self.year = year\n",
    "        self.color = color\n",
    "        self.price = price\n",
    "\n",
    "    def display_details(self):\n",
    "        print(f\"Car Details:\\nBrand: {self.brand}\\nModel: {self.model}\\nYear: {self.year}\\nColor: {self.color}\\nPrice: {self.price}\")\n",
    "\n",
    "my_car = Car(\"Toyota\", \"Camry\", 2023, \"Black\", 30000)\n",
    "my_car.display_details()"
   ]
  },
  {
   "cell_type": "markdown",
   "metadata": {},
   "source": [
    "### 08) Create one class student_kit\n",
    "#### Within the student_kit class create one class attribute principal name ( Mr ABC )\n",
    "#### Create one attendance method and take input as number of days.\n",
    "#### While creating student take input their name .\n",
    "#### Create one certificate for each student by taking input of number of days present in class."
   ]
  },
  {
   "cell_type": "code",
   "execution_count": 12,
   "metadata": {},
   "outputs": [
    {
     "name": "stdin",
     "output_type": "stream",
     "text": [
      "Enter student name:  Dhairya\n",
      "Enter number of days present:  290\n"
     ]
    },
    {
     "name": "stdout",
     "output_type": "stream",
     "text": [
      "\n",
      "--- Attendance Certificate ---\n",
      "Principal: Mr. ABC\n",
      "Student Name: Dhairya\n",
      "Days Present: 290\n",
      "Congratulations on your participation!\n",
      "\n"
     ]
    }
   ],
   "source": [
    "class StudentKit:\n",
    "    principal_name = \"Mr. ABC\"\n",
    "\n",
    "    def __init__(self, student_name):\n",
    "        self.student_name = student_name\n",
    "        self.attendance_days = 0\n",
    "\n",
    "    def attendance(self, days):\n",
    "        self.attendance_days = days\n",
    "\n",
    "    def generate_certificate(self):\n",
    "        print(\"\\n--- Attendance Certificate ---\")\n",
    "        print(f\"Principal: {StudentKit.principal_name}\")\n",
    "        print(f\"Student Name: {self.student_name}\")\n",
    "        print(f\"Days Present: {self.attendance_days}\")\n",
    "        print(\"Congratulations on your participation!\\n\")\n",
    "\n",
    "student1 = StudentKit(input(\"Enter student name: \"))\n",
    "days_present = int(input(\"Enter number of days present: \"))\n",
    "student1.attendance(days_present)\n",
    "student1.generate_certificate()"
   ]
  },
  {
   "cell_type": "markdown",
   "metadata": {},
   "source": [
    "### 09) Define Time class with hour and minute as data member. Also define addition method to add two time objects."
   ]
  },
  {
   "cell_type": "code",
   "execution_count": 13,
   "metadata": {},
   "outputs": [
    {
     "name": "stdout",
     "output_type": "stream",
     "text": [
      "Time: 4 hours 15 minutes\n"
     ]
    }
   ],
   "source": [
    "class Time:\n",
    "    def __init__(self, hour, minute):\n",
    "        self.hour = hour\n",
    "        self.minute = minute\n",
    "\n",
    "    def add_time(self, other):\n",
    "        total_minutes = self.minute + other.minute\n",
    "        extra_hours = total_minutes // 60\n",
    "        total_hours = self.hour + other.hour + extra_hours\n",
    "        final_minutes = total_minutes % 60\n",
    "        return Time(total_hours, final_minutes)\n",
    "\n",
    "    def display(self):\n",
    "        print(f\"Time: {self.hour} hours {self.minute} minutes\")\n",
    "\n",
    "time1 = Time(2, 45)\n",
    "time2 = Time(1, 30)\n",
    "\n",
    "result = time1.add_time(time2)\n",
    "result.display()"
   ]
  }
 ],
 "metadata": {
  "kernelspec": {
   "display_name": "Python 3 (ipykernel)",
   "language": "python",
   "name": "python3"
  },
  "language_info": {
   "codemirror_mode": {
    "name": "ipython",
    "version": 3
   },
   "file_extension": ".py",
   "mimetype": "text/x-python",
   "name": "python",
   "nbconvert_exporter": "python",
   "pygments_lexer": "ipython3",
   "version": "3.13.1"
  }
 },
 "nbformat": 4,
 "nbformat_minor": 4
}
