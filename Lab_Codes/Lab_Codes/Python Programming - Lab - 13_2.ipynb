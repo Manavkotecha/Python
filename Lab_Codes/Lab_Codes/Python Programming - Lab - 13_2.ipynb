{
 "cells": [
  {
   "cell_type": "markdown",
   "metadata": {},
   "source": [
    "<a href='https://www.darshan.ac.in/'> <img src='https://www.darshan.ac.in/Content/media/DU_Logo.svg' width=\"250\" height=\"300\"/></a>\n",
    "<pre>\n",
    "<center><b><h1>Python Programming - 2301CS404</b></center>\n",
    "<center><b><h1>Lab - 13</b></center>    \n",
    "<pre>"
   ]
  },
  {
   "cell_type": "markdown",
   "metadata": {},
   "source": [
    "Dhairya Bhatt 23010101023"
   ]
  },
  {
   "cell_type": "markdown",
   "metadata": {},
   "source": [
    "## Continued.."
   ]
  },
  {
   "cell_type": "markdown",
   "metadata": {},
   "source": [
    "### 10) Calculate area of a ractangle using object as an argument to a method."
   ]
  },
  {
   "cell_type": "code",
   "execution_count": 4,
   "metadata": {},
   "outputs": [
    {
     "name": "stdout",
     "output_type": "stream",
     "text": [
      "200\n"
     ]
    }
   ],
   "source": [
    "class Rectangle:\n",
    "    def __init__(self, length, width):\n",
    "        self.length = length\n",
    "        self.width = width\n",
    "\n",
    "    def area_using_object(rect):\n",
    "        return rect.length * rect.width\n",
    "\n",
    "r1 = Rectangle(10, 20)\n",
    "print(Rectangle.area_using_object(r1))"
   ]
  },
  {
   "cell_type": "markdown",
   "metadata": {},
   "source": [
    "### 11) Calculate the area of a square. \n",
    "### Include a Constructor, a method to calculate area named area() and a method named output() that prints the output and is invoked by area()."
   ]
  },
  {
   "cell_type": "code",
   "execution_count": 9,
   "metadata": {},
   "outputs": [
    {
     "name": "stdout",
     "output_type": "stream",
     "text": [
      "100\n"
     ]
    }
   ],
   "source": [
    "class Square:\n",
    "    def __init__(self, length):\n",
    "        self.length = length\n",
    "\n",
    "    def area(self):\n",
    "        Square.output(self.length**2)\n",
    "\n",
    "    def output(res):\n",
    "        print(res)\n",
    "\n",
    "s1 = Square(10)\n",
    "s1.area()"
   ]
  },
  {
   "cell_type": "markdown",
   "metadata": {},
   "source": [
    "### 12) Calculate the area of a rectangle. \n",
    "### Include a Constructor, a method to calculate area named area() and a method named output() that prints the output and is invoked by area().\n",
    "### Also define a class method that compares the two sides of reactangle. An object is instantiated only if the two sides are different; otherwise a message should be displayed : THIS IS SQUARE."
   ]
  },
  {
   "cell_type": "code",
   "execution_count": 19,
   "metadata": {},
   "outputs": [
    {
     "name": "stdout",
     "output_type": "stream",
     "text": [
      "THIS IS SQUARE\n"
     ]
    }
   ],
   "source": [
    "class Rectangle:\n",
    "    def __init__(self, length, width):\n",
    "        self.length = length\n",
    "        self.width = width\n",
    "        \n",
    "    @classmethod\n",
    "    def compare(cls, length, width):\n",
    "        return length != width\n",
    "\n",
    "    def area(self):\n",
    "        Rectangle.output(self.length * self.width)\n",
    "\n",
    "    def output(res):\n",
    "        print(res)\n",
    "\n",
    "if Rectangle.compare(10,10):\n",
    "    r1 = Rectangle(10,20)\n",
    "    r1.area()\n",
    "else:\n",
    "    print('THIS IS SQUARE')"
   ]
  },
  {
   "cell_type": "markdown",
   "metadata": {},
   "source": [
    "### 13) Define a class Square having a private attribute \"side\". \n",
    "### Implement get_side and set_side methods to accees the private attribute from outside of the class."
   ]
  },
  {
   "cell_type": "code",
   "execution_count": 21,
   "metadata": {},
   "outputs": [
    {
     "name": "stdout",
     "output_type": "stream",
     "text": [
      "10\n"
     ]
    }
   ],
   "source": [
    "class Square:\n",
    "    __side = 0\n",
    "    # def __init__(self, side):\n",
    "    #     self.__side = side\n",
    "\n",
    "    def set_side(self, side):\n",
    "        self.__side = side\n",
    "\n",
    "    def get_side(self):\n",
    "        return self.__side\n",
    "\n",
    "s1 = Square()\n",
    "s1.set_side(10)\n",
    "print(s1.get_side())"
   ]
  },
  {
   "cell_type": "markdown",
   "metadata": {},
   "source": [
    "### 14) Create a class Profit that has a method named getProfit that accepts profit from the user.\n",
    "### Create a class Loss that has a method named getLoss that accepts loss from the user.\n",
    "### Create a class BalanceSheet that inherits from both classes Profit and Loss and calculates the balanace. It has two methods getBalance() and printBalance()."
   ]
  },
  {
   "cell_type": "code",
   "execution_count": 26,
   "metadata": {},
   "outputs": [
    {
     "name": "stdout",
     "output_type": "stream",
     "text": [
      "2600\n"
     ]
    }
   ],
   "source": [
    "class Profit:\n",
    "    def getProfit(self, profit):\n",
    "        self._profit = profit\n",
    "\n",
    "class Loss:\n",
    "    def getLoss(self, loss):\n",
    "        self._loss = loss\n",
    "\n",
    "class BalanceSheet(Profit, Loss):\n",
    "\n",
    "    def getBalance(self, balance):\n",
    "        self.__balance = balance + self._profit - self._loss\n",
    "\n",
    "    def printBalance(self):\n",
    "        print(self.__balance)\n",
    "\n",
    "b1 = BalanceSheet()\n",
    "b1.getProfit(1000)\n",
    "b1.getLoss(400)\n",
    "b1.getBalance(2000)\n",
    "b1.printBalance()"
   ]
  },
  {
   "attachments": {},
   "cell_type": "markdown",
   "metadata": {},
   "source": [
    "### 15) WAP to demonstrate all types of inheritance."
   ]
  },
  {
   "cell_type": "code",
   "execution_count": 27,
   "metadata": {},
   "outputs": [
    {
     "name": "stdout",
     "output_type": "stream",
     "text": [
      "This is Parent class\n",
      "This is Child class\n",
      "This is Parent1\n",
      "This is Parent2\n",
      "This is Child class\n",
      "This is Grandparent class\n",
      "This is Parent class\n",
      "This is Child class\n",
      "This is Parent class\n",
      "This is Child1 class\n",
      "This is Parent class\n",
      "This is Child2 class\n",
      "This is Class A\n",
      "This is Class B\n",
      "This is Class C\n",
      "This is Class D\n"
     ]
    }
   ],
   "source": [
    "# Single Inheritance\n",
    "class Parent:\n",
    "    def func1(self):\n",
    "        print(\"This is Parent class\")\n",
    "\n",
    "class Child(Parent):\n",
    "    def func2(self):\n",
    "        print(\"This is Child class\")\n",
    "\n",
    "obj1 = Child()\n",
    "obj1.func1()  # Inherited from Parent\n",
    "obj1.func2()\n",
    "\n",
    "# Multiple Inheritance\n",
    "class Parent1:\n",
    "    def func1(self):\n",
    "        print(\"This is Parent1\")\n",
    "\n",
    "class Parent2:\n",
    "    def func2(self):\n",
    "        print(\"This is Parent2\")\n",
    "\n",
    "class Child(Parent1, Parent2):\n",
    "    def func3(self):\n",
    "        print(\"This is Child class\")\n",
    "\n",
    "obj2 = Child()\n",
    "obj2.func1()  # Inherited from Parent1\n",
    "obj2.func2()  # Inherited from Parent2\n",
    "obj2.func3()\n",
    "\n",
    "# Multilevel Inheritance\n",
    "class Grandparent:\n",
    "    def func1(self):\n",
    "        print(\"This is Grandparent class\")\n",
    "\n",
    "class Parent(Grandparent):\n",
    "    def func2(self):\n",
    "        print(\"This is Parent class\")\n",
    "\n",
    "class Child(Parent):\n",
    "    def func3(self):\n",
    "        print(\"This is Child class\")\n",
    "\n",
    "obj3 = Child()\n",
    "obj3.func1()  # Inherited from Grandparent\n",
    "obj3.func2()  # Inherited from Parent\n",
    "obj3.func3()\n",
    "\n",
    "# Hierarchical Inheritance\n",
    "class Parent:\n",
    "    def func1(self):\n",
    "        print(\"This is Parent class\")\n",
    "\n",
    "class Child1(Parent):\n",
    "    def func2(self):\n",
    "        print(\"This is Child1 class\")\n",
    "\n",
    "class Child2(Parent):\n",
    "    def func3(self):\n",
    "        print(\"This is Child2 class\")\n",
    "\n",
    "obj4 = Child1()\n",
    "obj5 = Child2()\n",
    "obj4.func1()  # Inherited from Parent\n",
    "obj4.func2()\n",
    "\n",
    "obj5.func1()  # Inherited from Parent\n",
    "obj5.func3()\n",
    "\n",
    "# Hybrid Inheritance (Combination of multiple inheritance types)\n",
    "class A:\n",
    "    def func1(self):\n",
    "        print(\"This is Class A\")\n",
    "\n",
    "class B(A):\n",
    "    def func2(self):\n",
    "        print(\"This is Class B\")\n",
    "\n",
    "class C(A):\n",
    "    def func3(self):\n",
    "        print(\"This is Class C\")\n",
    "\n",
    "class D(B, C):  # Multiple + Multilevel Inheritance\n",
    "    def func4(self):\n",
    "        print(\"This is Class D\")\n",
    "\n",
    "obj6 = D()\n",
    "obj6.func1()  # Inherited from A\n",
    "obj6.func2()  # Inherited from B\n",
    "obj6.func3()  # Inherited from C\n",
    "obj6.func4()\n"
   ]
  },
  {
   "cell_type": "markdown",
   "metadata": {},
   "source": [
    "### 16) Create a Person class with a constructor that takes two arguments name and age. \n",
    "### Create a child class Employee that inherits from Person and adds a new attribute salary. \n",
    "### Override the __init__ method in Employee to call the parent class's __init__ method using the super() and then initialize the salary attribute."
   ]
  },
  {
   "cell_type": "code",
   "execution_count": 31,
   "metadata": {},
   "outputs": [
    {
     "name": "stdout",
     "output_type": "stream",
     "text": [
      "Dhairya 19 4000000\n"
     ]
    }
   ],
   "source": [
    "class Person:\n",
    "    def __init__(self, name, age):\n",
    "        self.name = name\n",
    "        self.age = age\n",
    "\n",
    "class Employee(Person):\n",
    "    def __init__(self, name, age, salary):\n",
    "        super().__init__(name, age)\n",
    "        self.salary = salary\n",
    "\n",
    "    def print_details(self):\n",
    "        print(self.name, self.age, self.salary)\n",
    "\n",
    "e1 = Employee('Dhairya', 19, 4000000)\n",
    "e1.print_details()"
   ]
  },
  {
   "cell_type": "markdown",
   "metadata": {},
   "source": [
    "### 17) Create a Shape class with a draw method that is not implemented. \n",
    "### Create three child classes Rectangle, Circle, and Triangle that implement the draw method with their respective drawing behaviors. \n",
    "### Create a list of Shape objects that includes one instance of each child class, and then iterate through the list and call the draw method on each object."
   ]
  },
  {
   "cell_type": "code",
   "execution_count": 32,
   "metadata": {},
   "outputs": [
    {
     "name": "stdout",
     "output_type": "stream",
     "text": [
      "Drawing a Rectangle\n",
      "Drawing a Circle\n",
      "Drawing a Triangle\n"
     ]
    }
   ],
   "source": [
    "from abc import ABC, abstractmethod\n",
    "\n",
    "class Shape(ABC):\n",
    "    @abstractmethod\n",
    "    def draw(self):\n",
    "        pass\n",
    "\n",
    "class Rectangle(Shape):\n",
    "    def draw(self):\n",
    "        print(\"Drawing a Rectangle\")\n",
    "\n",
    "class Circle(Shape):\n",
    "    def draw(self):\n",
    "        print(\"Drawing a Circle\")\n",
    "\n",
    "class Triangle(Shape):\n",
    "    def draw(self):\n",
    "        print(\"Drawing a Triangle\")\n",
    "\n",
    "shapes = [Rectangle(), Circle(), Triangle()]\n",
    "\n",
    "for shape in shapes:\n",
    "    shape.draw()"
   ]
  }
 ],
 "metadata": {
  "kernelspec": {
   "display_name": "Python 3 (ipykernel)",
   "language": "python",
   "name": "python3"
  },
  "language_info": {
   "codemirror_mode": {
    "name": "ipython",
    "version": 3
   },
   "file_extension": ".py",
   "mimetype": "text/x-python",
   "name": "python",
   "nbconvert_exporter": "python",
   "pygments_lexer": "ipython3",
   "version": "3.13.1"
  }
 },
 "nbformat": 4,
 "nbformat_minor": 4
}
