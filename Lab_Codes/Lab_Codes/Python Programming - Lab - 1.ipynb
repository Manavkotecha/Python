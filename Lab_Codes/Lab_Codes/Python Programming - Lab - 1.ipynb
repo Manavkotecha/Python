{
 "cells": [
  {
   "cell_type": "markdown",
   "metadata": {},
   "source": [
    "<a href='https://www.darshan.ac.in/'> <img src='https://www.darshan.ac.in/Content/media/DU_Logo.svg' width=\"250\" height=\"10\"/></a>\n",
    "<pre>\n",
    "<center><b><h1>Python Programming - 2301CS404</b></center>\n",
    "<center><b><h1>Lab - 1</b></center>    \n",
    "<pre>"
   ]
  },
  {
   "cell_type": "markdown",
   "metadata": {},
   "source": [
    "### 01) WAP to print “Hello World”"
   ]
  },
  {
   "cell_type": "code",
   "execution_count": 1,
   "metadata": {},
   "outputs": [
    {
     "name": "stdout",
     "output_type": "stream",
     "text": [
      "Hello World\n"
     ]
    }
   ],
   "source": [
    "print('Hello World')"
   ]
  },
  {
   "cell_type": "markdown",
   "metadata": {},
   "source": [
    "### 02) WAP to print addition of two numbers with and without using input()."
   ]
  },
  {
   "cell_type": "code",
   "execution_count": 4,
   "metadata": {},
   "outputs": [
    {
     "name": "stdout",
     "output_type": "stream",
     "text": [
      "30\n",
      "Enter number 1: 2\n",
      "Enter number 2: 3\n",
      "5\n"
     ]
    }
   ],
   "source": [
    "num1 ,num2= 10, 20\n",
    "print(num1 + num2)\n",
    "\n",
    "num3 = int(input('Enter number 1: '))\n",
    "num4 = int(input('Enter number 2: '))\n",
    "print(num3 + num4)"
   ]
  },
  {
   "cell_type": "markdown",
   "metadata": {},
   "source": [
    "### 03) WAP to check the type of the variable."
   ]
  },
  {
   "cell_type": "code",
   "execution_count": 5,
   "metadata": {},
   "outputs": [
    {
     "name": "stdout",
     "output_type": "stream",
     "text": [
      "<class 'str'>\n"
     ]
    }
   ],
   "source": [
    "var = 'Hello'\n",
    "print(type(var))"
   ]
  },
  {
   "cell_type": "markdown",
   "metadata": {},
   "source": [
    "### 04) WAP to calculate simple interest."
   ]
  },
  {
   "cell_type": "code",
   "execution_count": 7,
   "metadata": {},
   "outputs": [
    {
     "name": "stdout",
     "output_type": "stream",
     "text": [
      "Enter Principal Amount: 10000\n",
      "Enter Rate of Interest: 5\n",
      "Enter time in years: 2\n",
      "Simple Interest is  1000.0\n"
     ]
    }
   ],
   "source": [
    "p = int(input('Enter Principal Amount: '))\n",
    "r = int(input('Enter Rate of Interest: '))\n",
    "t = int(input('Enter time in years: '))\n",
    "\n",
    "si = (p*r*t)/100\n",
    "print('Simple Interest is ', si)"
   ]
  },
  {
   "cell_type": "markdown",
   "metadata": {},
   "source": [
    "### 05) WAP to calculate area and perimeter of a circle."
   ]
  },
  {
   "cell_type": "code",
   "execution_count": 12,
   "metadata": {},
   "outputs": [
    {
     "name": "stdout",
     "output_type": "stream",
     "text": [
      "Enter radius in meters: 2\n",
      "Area of circle is 12.566370614359172 meter square\n",
      "Perimeter of circle is 12.566370614359172 meters\n"
     ]
    }
   ],
   "source": [
    "import math\n",
    "\n",
    "radius = int(input('Enter radius in meters: '))\n",
    "perimeter = 2*math.pi*radius\n",
    "area = math.pi*pow(radius,2)\n",
    "print(f'Area of circle is {area} meter square')\n",
    "print('Perimeter of circle is', perimeter, 'meters')"
   ]
  },
  {
   "cell_type": "markdown",
   "metadata": {},
   "source": [
    "### 06) WAP to calculate area of a triangle."
   ]
  },
  {
   "cell_type": "code",
   "execution_count": 13,
   "metadata": {},
   "outputs": [
    {
     "name": "stdout",
     "output_type": "stream",
     "text": [
      "Enter base of the triangle: 3\n",
      "Enter height of the triangle: 4\n",
      "Area of triangle is 6.0 meter square\n"
     ]
    }
   ],
   "source": [
    "base = int(input('Enter base of the triangle: '))\n",
    "height = int(input('Enter height of the triangle: '))\n",
    "area = 1/2*base*height\n",
    "print(f'Area of triangle is {area} meter square')"
   ]
  },
  {
   "cell_type": "markdown",
   "metadata": {},
   "source": [
    "### 07) WAP to compute quotient and remainder."
   ]
  },
  {
   "cell_type": "code",
   "execution_count": null,
   "metadata": {},
   "outputs": [],
   "source": [
    "divisor = int(input('Enter divisor: '))\n",
    "dividend = int(input('Enter dididend: '))\n",
    "quotient = dividend // divisor\n",
    "remainder = dividend % divisor\n",
    "print(f'Quotient is {quotient} and Remainder is {remainder}')"
   ]
  },
  {
   "cell_type": "markdown",
   "metadata": {},
   "source": [
    "### 08) WAP to convert degree into Fahrenheit and vice versa."
   ]
  },
  {
   "cell_type": "code",
   "execution_count": 17,
   "metadata": {},
   "outputs": [
    {
     "name": "stdout",
     "output_type": "stream",
     "text": [
      "Enter temperature in degree: 32\n",
      "Temperature in Fahrenheit is 89.6\n",
      "Enter temperature in fahrenheit: 89.6\n",
      "Temperature in Degree is 32.0\n"
     ]
    }
   ],
   "source": [
    "degree = float(input('Enter temperature in degree: '))\n",
    "fahrenheit = degree * (9/5) + 32\n",
    "print(f'Temperature in Fahrenheit is {fahrenheit}')\n",
    "fahrenheit = float(input('Enter temperature in fahrenheit: '))\n",
    "degree = (fahrenheit - 32) * 5/9\n",
    "print(f'Temperature in Degree is {degree}')"
   ]
  },
  {
   "cell_type": "markdown",
   "metadata": {},
   "source": [
    "### 09) WAP to find the distance between two points in 2-D space."
   ]
  },
  {
   "cell_type": "code",
   "execution_count": null,
   "metadata": {},
   "outputs": [],
   "source": [
    "x1 = int(input('Enter x coordinate of point 1: '))\n",
    "y1 = int(input('Enter y coordinate of point 1: '))\n",
    "x2 = int(input('Enter x coordinate of point 2: '))\n",
    "y2 = int(input('Enter y coordinate of point 2: '))"
   ]
  },
  {
   "cell_type": "markdown",
   "metadata": {},
   "source": [
    "### 10) WAP to print sum of n natural numbers."
   ]
  },
  {
   "cell_type": "code",
   "execution_count": 17,
   "metadata": {},
   "outputs": [
    {
     "name": "stdin",
     "output_type": "stream",
     "text": [
      "Enter a number:  5\n"
     ]
    },
    {
     "name": "stdout",
     "output_type": "stream",
     "text": [
      "Sum of first 5 natural numbers is: 15\n"
     ]
    }
   ],
   "source": [
    "n = int(input(\"Enter a number: \"))\n",
    "total = 0\n",
    "for i in range(1, n+1):\n",
    "    total += i \n",
    "print(\"Sum of first\", n, \"natural numbers is:\", total)"
   ]
  },
  {
   "cell_type": "markdown",
   "metadata": {},
   "source": [
    "### 11) WAP to print sum of square of n natural numbers."
   ]
  },
  {
   "cell_type": "code",
   "execution_count": 19,
   "metadata": {},
   "outputs": [
    {
     "name": "stdin",
     "output_type": "stream",
     "text": [
      "Enter a number:  3\n"
     ]
    },
    {
     "name": "stdout",
     "output_type": "stream",
     "text": [
      "Sum of square of first 3 natural numbers is: 14\n"
     ]
    }
   ],
   "source": [
    "n = int(input('Enter a number: '))\n",
    "total = 0\n",
    "for i in range(1, n+1):\n",
    "    total += pow(i, 2)\n",
    "\n",
    "print('Sum of square of first', n, 'natural numbers is:', total)"
   ]
  },
  {
   "cell_type": "markdown",
   "metadata": {},
   "source": [
    "### 12) WAP to concate the first and last name of the student."
   ]
  },
  {
   "cell_type": "code",
   "execution_count": 23,
   "metadata": {},
   "outputs": [
    {
     "name": "stdin",
     "output_type": "stream",
     "text": [
      "Enter your first name:  Dhairya\n",
      "Enter your last name:  Bhatt\n"
     ]
    },
    {
     "name": "stdout",
     "output_type": "stream",
     "text": [
      "Dhairya Bhatt\n"
     ]
    }
   ],
   "source": [
    "firstName = input('Enter your first name: ')\n",
    "lastName = input('Enter your last name: ')\n",
    "name = firstName + ' ' + lastName\n",
    "print(name)"
   ]
  },
  {
   "cell_type": "markdown",
   "metadata": {},
   "source": [
    "### 13) WAP to swap two numbers."
   ]
  },
  {
   "cell_type": "code",
   "execution_count": 25,
   "metadata": {},
   "outputs": [
    {
     "name": "stdin",
     "output_type": "stream",
     "text": [
      "Enter first number:  2\n",
      "Enter second number:  3\n"
     ]
    },
    {
     "name": "stdout",
     "output_type": "stream",
     "text": [
      "Before swapping:\n",
      "num1 = 2 and num2 = 3\n",
      "After swapping:\n",
      "num1 = 3 and num2 = 2\n"
     ]
    }
   ],
   "source": [
    "num1 = int(input('Enter first number: '))\n",
    "num2 = int(input('Enter second number: '))\n",
    "print('Before swapping:')\n",
    "print('num1 =', num1, 'and num2 =', num2)\n",
    "temp = num1\n",
    "num1 = num2\n",
    "num2 = temp\n",
    "print('After swapping:')\n",
    "print('num1 =', num1, 'and num2 =', num2)"
   ]
  },
  {
   "cell_type": "markdown",
   "metadata": {},
   "source": [
    "<h3>14) WAP to get the distance from user into kilometer, and convert it into meter, feet, inches and centimeter.</h3>"
   ]
  },
  {
   "cell_type": "code",
   "execution_count": 5,
   "metadata": {},
   "outputs": [
    {
     "name": "stdin",
     "output_type": "stream",
     "text": [
      "Enter distance in kilometers:  5\n"
     ]
    },
    {
     "name": "stdout",
     "output_type": "stream",
     "text": [
      "Distance in meter is 5000 m\n",
      "Distance in feet is 16404.2 feet\n",
      "Distance in inches is 196850.5 inches\n",
      "Distance in centimeter is 500000 cm\n"
     ]
    }
   ],
   "source": [
    "km = int(input('Enter distance in kilometers: '))\n",
    "meter = km * 1000\n",
    "feet = km * 3280.84\n",
    "inches = km * 39370.1\n",
    "cm = km * 100000\n",
    "print('Distance in meter is', meter, 'm')\n",
    "print('Distance in feet is', feet, 'feet')\n",
    "print('Distance in inches is', inches, 'inches')\n",
    "print('Distance in centimeter is', cm, 'cm')"
   ]
  },
  {
   "cell_type": "markdown",
   "metadata": {},
   "source": [
    "### 15) WAP to get day, month and year from the user and print the date in the given format: 23-11-2024."
   ]
  },
  {
   "cell_type": "code",
   "execution_count": 7,
   "metadata": {},
   "outputs": [
    {
     "name": "stdin",
     "output_type": "stream",
     "text": [
      "Enter day:  23\n",
      "Enter month:  11\n",
      "Enter yaer:  2024\n"
     ]
    },
    {
     "name": "stdout",
     "output_type": "stream",
     "text": [
      "23-11-2024\n"
     ]
    }
   ],
   "source": [
    "day = int(input('Enter day: '))\n",
    "month = int(input('Enter month: '))\n",
    "year = int(input('Enter yaer: '))\n",
    "print(day, month, year, sep='-')"
   ]
  }
 ],
 "metadata": {
  "kernelspec": {
   "display_name": "Python 3 (ipykernel)",
   "language": "python",
   "name": "python3"
  },
  "language_info": {
   "codemirror_mode": {
    "name": "ipython",
    "version": 3
   },
   "file_extension": ".py",
   "mimetype": "text/x-python",
   "name": "python",
   "nbconvert_exporter": "python",
   "pygments_lexer": "ipython3",
   "version": "3.12.7"
  },
  "vscode": {
   "interpreter": {
    "hash": "31f2aee4e71d21fbe5cf8b01ff0e069b9275f58929596ceb00d14d90e3e16cd6"
   }
  }
 },
 "nbformat": 4,
 "nbformat_minor": 4
}
