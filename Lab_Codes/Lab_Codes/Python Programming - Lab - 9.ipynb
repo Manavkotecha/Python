{
 "cells": [
  {
   "cell_type": "markdown",
   "metadata": {},
   "source": [
    "<a href='https://www.darshan.ac.in/'> <img src='https://www.darshan.ac.in/Content/media/DU_Logo.svg' width=\"250\" height=\"300\"/></a>\n",
    "<pre>\n",
    "<center><b><h1>Python Programming - 2301CS404</b></center>\n",
    "<center><b><h1>Lab - 9</b></center>    \n",
    "<pre>"
   ]
  },
  {
   "cell_type": "markdown",
   "metadata": {},
   "source": [
    "# File I/O"
   ]
  },
  {
   "cell_type": "markdown",
   "metadata": {},
   "source": [
    "### 01) WAP to read and display the contents of a text file. (also try to open the file in some other directory) \n",
    "#### - in the form of a string\n",
    "#### - line by line\n",
    "#### - in the form of a list"
   ]
  },
  {
   "cell_type": "code",
   "execution_count": 11,
   "metadata": {},
   "outputs": [
    {
     "name": "stdout",
     "output_type": "stream",
     "text": [
      "list:  ['Manav \\n', 'Harshil\\n', 'Jasmin\\n', 'DUDU\\n', 'Dhairya\\n', 'Meet\\n', 'Viraj(intersteelor)']\n",
      "line:  Manav \n",
      "Harshil\n",
      "Jasmin\n",
      "DUDU\n",
      "Dhairya\n",
      "Meet\n",
      "Viraj(intersteelor) Manav \n",
      "\n",
      "Harshil\n",
      "\n",
      "Jasmin\n",
      "\n",
      "DUDU\n",
      "\n",
      "Dhairya\n",
      "\n",
      "Meet\n",
      "\n",
      "Viraj(intersteelor)\n"
     ]
    }
   ],
   "source": [
    "fp = open('f1.txt','r')\n",
    "print('list: ',fp.readlines())\n",
    "\n",
    "fp.seek(0)\n",
    "print('line: ',fp.read(),end=\" \")\n",
    "\n",
    "fp.seek(0)\n",
    "for i in fp:\n",
    "    print(i)\n",
    "\n",
    "fp.close()\n",
    "    \n"
   ]
  },
  {
   "cell_type": "markdown",
   "metadata": {},
   "source": [
    "### 02) WAP to create file named \"new.txt\" only if it doesn't exist."
   ]
  },
  {
   "cell_type": "code",
   "execution_count": 12,
   "metadata": {},
   "outputs": [],
   "source": [
    "fp = open('f2.txt','w')\n",
    "fp.close()\n"
   ]
  },
  {
   "cell_type": "markdown",
   "metadata": {},
   "source": [
    "### 03) WAP to read first 5 lines from the text file."
   ]
  },
  {
   "cell_type": "code",
   "execution_count": 15,
   "metadata": {},
   "outputs": [
    {
     "name": "stdout",
     "output_type": "stream",
     "text": [
      "Manav \n",
      "\n",
      "Harshil\n",
      "\n",
      "Jasmin\n",
      "\n",
      "DUDU\n",
      "\n",
      "Dhairya\n",
      "\n"
     ]
    }
   ],
   "source": [
    "fp = open('f1.txt','r')\n",
    "count=0\n",
    "for i in fp:\n",
    "    if count<5:\n",
    "        print(i)\n",
    "        count +=1\n",
    "fp.close()"
   ]
  },
  {
   "cell_type": "markdown",
   "metadata": {},
   "source": [
    "### 04) WAP to find the longest word(s) in a file"
   ]
  },
  {
   "cell_type": "code",
   "execution_count": 25,
   "metadata": {},
   "outputs": [
    {
     "name": "stdout",
     "output_type": "stream",
     "text": [
      "Harshil bsdkmnfkmfkk\n",
      "\n",
      "(intersteelor)\n"
     ]
    }
   ],
   "source": [
    "fp = open('f1.txt','r')\n",
    "long = ''\n",
    "\n",
    "# 1\n",
    "for i in fp:\n",
    "    if len(i) > len(long):\n",
    "        long = i\n",
    "print(long)\n",
    "\n",
    "fp.close()\n",
    "\n",
    "# 2\n",
    "fp = open('f1.txt','r')\n",
    "\n",
    "l1 = fp.read().split()\n",
    "long2 = max(l1,key = len)\n",
    "print(long2)\n",
    "\n",
    "fp.close()"
   ]
  },
  {
   "cell_type": "markdown",
   "metadata": {},
   "source": [
    "### 05) WAP to count the no. of lines, words and characters in a given text file."
   ]
  },
  {
   "cell_type": "code",
   "execution_count": 31,
   "metadata": {},
   "outputs": [
    {
     "name": "stdout",
     "output_type": "stream",
     "text": [
      "No. of lines is: 7\n",
      "No. of lines is: 9\n",
      "No. of lines is: 73\n"
     ]
    }
   ],
   "source": [
    "fp = open('f1.txt','r')\n",
    "lines,chars,words =0,0,0\n",
    "\n",
    "# lines\n",
    "for i in fp:\n",
    "    lines += 1\n",
    "    words += len(i.split())\n",
    "    chars += len(i) \n",
    "\n",
    "print(f'No. of lines is: {lines}')    \n",
    "print(f'No. of words is: {words}')\n",
    "print(f'No. of chars is: {chars}')\n",
    "fp.close()"
   ]
  },
  {
   "cell_type": "markdown",
   "metadata": {},
   "source": [
    "### 06) WAP to copy the content of a file to the another file."
   ]
  },
  {
   "cell_type": "code",
   "execution_count": 35,
   "metadata": {},
   "outputs": [],
   "source": [
    "fp = open('f1.txt')\n",
    "fp2 = open('f2.txt','w')\n",
    "\n",
    "fp2.write(fp.read())\n",
    "\n",
    "fp.close()\n",
    "fp2.close()"
   ]
  },
  {
   "cell_type": "markdown",
   "metadata": {},
   "source": [
    "### 07) WAP to find the size of the text file. "
   ]
  },
  {
   "cell_type": "code",
   "execution_count": 39,
   "metadata": {},
   "outputs": [
    {
     "name": "stdout",
     "output_type": "stream",
     "text": [
      "73\n"
     ]
    }
   ],
   "source": [
    "fp = open('f1.txt')\n",
    "\n",
    "fp.seek(0,2)\n",
    "print(fp.tell())\n",
    "\n",
    "fp.close()"
   ]
  },
  {
   "cell_type": "markdown",
   "metadata": {},
   "source": [
    "### 08) WAP to create an UDF named frequency to count occurances of the specific word in a given text file."
   ]
  },
  {
   "cell_type": "code",
   "execution_count": 49,
   "metadata": {},
   "outputs": [
    {
     "name": "stdout",
     "output_type": "stream",
     "text": [
      "Enter the word: Manav\n",
      "2\n"
     ]
    }
   ],
   "source": [
    "fp = open('f1.txt')\n",
    "word = input(\"Enter the word: \")\n",
    "\n",
    "\n",
    "def frequency(word):\n",
    "    count= 0\n",
    "    for i in fp.read().split():\n",
    "        if i == word:\n",
    "            count +=1\n",
    "    return count\n",
    "\n",
    "print(frequency(word))\n",
    "fp.close()"
   ]
  },
  {
   "cell_type": "markdown",
   "metadata": {},
   "source": [
    "### 09) WAP to get the score of five subjects from the user, store them in a file. Fetch those marks and find the highest score."
   ]
  },
  {
   "cell_type": "code",
   "execution_count": 56,
   "metadata": {},
   "outputs": [
    {
     "ename": "SyntaxError",
     "evalue": "unexpected character after line continuation character (1799079171.py, line 9)",
     "output_type": "error",
     "traceback": [
      "\u001b[1;36m  Cell \u001b[1;32mIn[56], line 9\u001b[1;36m\u001b[0m\n\u001b[1;33m    fp.writelines(s1\\\\n)\u001b[0m\n\u001b[1;37m                     ^\u001b[0m\n\u001b[1;31mSyntaxError\u001b[0m\u001b[1;31m:\u001b[0m unexpected character after line continuation character\n"
     ]
    }
   ],
   "source": [
    "s1 = input(\"Enter marks of subject 1: \")\n",
    "s2 = input(\"Enter marks of subject 2: \")\n",
    "s3 = input(\"Enter marks of subject 3: \")\n",
    "s4 = input(\"Enter marks of subject 4: \")\n",
    "s5 = input(\"Enter marks of subject 5: \")\n",
    "\n",
    "fp = open('f2.txt','w+')\n",
    "\n",
    "fp.writelines(s1+'\\n')\n",
    "fp.writelines(s2+'\\n')\n",
    "fp.writelines(s3+'\\n')\n",
    "fp.writelines(s4+'\\n')\n",
    "fp.writelines(s5+'\\n')\n",
    "\n",
    "fp.seek(0)\n",
    "high = 0\n",
    "for i in fp.read().split():\n",
    "    high = max(int\n",
    "\n",
    "fp.close()"
   ]
  },
  {
   "cell_type": "markdown",
   "metadata": {},
   "source": [
    "### 10) WAP to write first 100 prime numbers to a file named primenumbers.txt \n",
    "(Note: each number should be in new line)"
   ]
  },
  {
   "cell_type": "code",
   "execution_count": null,
   "metadata": {},
   "outputs": [],
   "source": []
  },
  {
   "cell_type": "markdown",
   "metadata": {},
   "source": [
    "### 11) WAP to merge two files and write it in a new file."
   ]
  },
  {
   "cell_type": "code",
   "execution_count": null,
   "metadata": {},
   "outputs": [],
   "source": []
  },
  {
   "cell_type": "markdown",
   "metadata": {},
   "source": [
    "### 12) WAP to replace word1 by word2 of a text file. Write the updated data to new file."
   ]
  },
  {
   "cell_type": "code",
   "execution_count": null,
   "metadata": {},
   "outputs": [],
   "source": []
  },
  {
   "cell_type": "markdown",
   "metadata": {},
   "source": [
    "### 13) Demonstrate tell() and seek() for all the cases(seek from beginning-end-current position) taking a suitable example of your choice."
   ]
  },
  {
   "cell_type": "code",
   "execution_count": null,
   "metadata": {},
   "outputs": [],
   "source": []
  }
 ],
 "metadata": {
  "kernelspec": {
   "display_name": "Python 3 (ipykernel)",
   "language": "python",
   "name": "python3"
  },
  "language_info": {
   "codemirror_mode": {
    "name": "ipython",
    "version": 3
   },
   "file_extension": ".py",
   "mimetype": "text/x-python",
   "name": "python",
   "nbconvert_exporter": "python",
   "pygments_lexer": "ipython3",
   "version": "3.10.9"
  }
 },
 "nbformat": 4,
 "nbformat_minor": 4
}
