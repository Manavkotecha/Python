{
 "cells": [
  {
   "cell_type": "markdown",
   "metadata": {},
   "source": [
    "<a href='https://www.darshan.ac.in/'> <img src='https://www.darshan.ac.in/Content/media/DU_Logo.svg' width=\"250\" height=\"300\"/></a>\n",
    "<pre>\n",
    "<center><b><h1>Python Programming - 2301CS404</b></center>\n",
    "<center><b><h1>Lab - 9</b></center>    \n",
    "<pre>"
   ]
  },
  {
   "cell_type": "markdown",
   "metadata": {},
   "source": [
    "# File I/O"
   ]
  },
  {
   "cell_type": "markdown",
   "metadata": {},
   "source": [
    "### 01) WAP to read and display the contents of a text file. (also try to open the file in some other directory) \n",
    "#### - in the form of a string\n",
    "#### - line by line\n",
    "#### - in the form of a list"
   ]
  },
  {
   "cell_type": "code",
   "execution_count": 23,
   "metadata": {},
   "outputs": [
    {
     "name": "stdout",
     "output_type": "stream",
     "text": [
      "['Hello!!\\n', 'How are you?\\n', 'sgggrgg\\n', 'fsbana\\n', 'sfazfba\\n', 'adadaujdf\\n', 'afaszjfna\\n', 'fafnff\\n', 'segfsejfn\\n', 'rgdhgarhth']\n"
     ]
    }
   ],
   "source": [
    "fp = open('abc.txt')\n",
    "# print(fp.read())\n",
    "\n",
    "# for i in fp:\n",
    "#     print(i)\n",
    "    \n",
    "l = fp.readlines()\n",
    "print(l)\n",
    "fp.close()"
   ]
  },
  {
   "cell_type": "markdown",
   "metadata": {},
   "source": [
    "### 02) WAP to create file named \"new.txt\" only if it doesn't exist."
   ]
  },
  {
   "cell_type": "code",
   "execution_count": 9,
   "metadata": {},
   "outputs": [],
   "source": [
    "fp = open('new.txt', 'w')\n",
    "fp.close()"
   ]
  },
  {
   "cell_type": "markdown",
   "metadata": {},
   "source": [
    "### 03) WAP to read first 5 lines from the text file."
   ]
  },
  {
   "cell_type": "code",
   "execution_count": 11,
   "metadata": {},
   "outputs": [
    {
     "name": "stdout",
     "output_type": "stream",
     "text": [
      "Hello!!\n",
      "\n",
      "How are you?\n",
      "\n",
      "sgggrgg\n",
      "\n",
      "fsbana\n",
      "\n",
      "sfazfba\n",
      "\n"
     ]
    }
   ],
   "source": [
    "fp = open('abc.txt')\n",
    "count = 0\n",
    "for i in fp:\n",
    "    if count < 5:\n",
    "        print(i)\n",
    "        count += 1\n",
    "    else:\n",
    "        break\n",
    "fp.close()"
   ]
  },
  {
   "cell_type": "markdown",
   "metadata": {},
   "source": [
    "### 04) WAP to find the longest word(s) in a file"
   ]
  },
  {
   "cell_type": "code",
   "execution_count": 22,
   "metadata": {},
   "outputs": [
    {
     "name": "stdout",
     "output_type": "stream",
     "text": [
      "rgdhgarhth\n"
     ]
    }
   ],
   "source": [
    "fp = open('abc.txt')\n",
    "longest_word = ''\n",
    "for i in fp:\n",
    "    for j in i.split():\n",
    "        if len(j) > len(longest_word):\n",
    "            longest_word = j\n",
    "print(longest_word)\n",
    "fp.close()"
   ]
  },
  {
   "cell_type": "markdown",
   "metadata": {},
   "source": [
    "### 05) WAP to count the no. of lines, words and characters in a given text file."
   ]
  },
  {
   "cell_type": "code",
   "execution_count": 24,
   "metadata": {},
   "outputs": [
    {
     "name": "stdout",
     "output_type": "stream",
     "text": [
      "10 12 91\n"
     ]
    }
   ],
   "source": [
    "fp = open('abc.txt')\n",
    "lines, words, characters = 0, 0, 0\n",
    "for i in fp:\n",
    "    lines += 1\n",
    "    l = [i]\n",
    "    characters += len(i)\n",
    "    words += len(i.split())\n",
    "print(lines, words, characters)\n",
    "fp.close()"
   ]
  },
  {
   "cell_type": "markdown",
   "metadata": {},
   "source": [
    "### 06) WAP to copy the content of a file to the another file."
   ]
  },
  {
   "cell_type": "code",
   "execution_count": 26,
   "metadata": {},
   "outputs": [],
   "source": [
    "fp1 = open('abc.txt')\n",
    "fp2 = open('copy.txt', 'w')\n",
    "\n",
    "for i in fp1:\n",
    "    fp2.write(i)\n",
    "\n",
    "fp1.close()\n",
    "fp2.close()"
   ]
  },
  {
   "cell_type": "markdown",
   "metadata": {},
   "source": [
    "### 07) WAP to find the size of the text file. "
   ]
  },
  {
   "cell_type": "code",
   "execution_count": 27,
   "metadata": {},
   "outputs": [
    {
     "name": "stdout",
     "output_type": "stream",
     "text": [
      "92\n"
     ]
    }
   ],
   "source": [
    "fp = open('abc.txt')\n",
    "fp.seek(0, 2)\n",
    "print(fp.tell()+1)\n",
    "fp.close()"
   ]
  },
  {
   "cell_type": "markdown",
   "metadata": {},
   "source": [
    "### 08) WAP to create an UDF named frequency to count occurances of the specific word in a given text file."
   ]
  },
  {
   "cell_type": "code",
   "execution_count": 35,
   "metadata": {},
   "outputs": [
    {
     "name": "stdout",
     "output_type": "stream",
     "text": [
      "4\n"
     ]
    }
   ],
   "source": [
    "def frequency(word):\n",
    "    fp = open('abc.txt')\n",
    "    file = fp.read().lower()\n",
    "    freq = file.split().count(word.lower())\n",
    "    fp.close()\n",
    "    return freq\n",
    "\n",
    "print(frequency('Hello'))"
   ]
  },
  {
   "cell_type": "markdown",
   "metadata": {},
   "source": [
    "### 09) WAP to get the score of five subjects from the user, store them in a file. Fetch those marks and find the highest score."
   ]
  },
  {
   "cell_type": "code",
   "execution_count": 46,
   "metadata": {},
   "outputs": [
    {
     "name": "stdout",
     "output_type": "stream",
     "text": [
      "Enter marks: 34\n",
      "Enter marks: 56\n",
      "Enter marks: 3\n",
      "Enter marks: 3\n",
      "Enter marks: 2\n",
      "56\n"
     ]
    }
   ],
   "source": [
    "fp = open('new.txt', 'w')\n",
    "for i in range (0, 5):\n",
    "    marks = int(input('Enter marks: '))\n",
    "    fp.write(str(marks) + '\\n')\n",
    "fp.close()\n",
    "fp = open('new.txt')\n",
    "# highest = 0\n",
    "# for i in fp:\n",
    "#     if int(i) > highest:\n",
    "#         highest = int(i)\n",
    "l = [int(i.strip()) for i in fp]\n",
    "print(max(l))\n",
    "fp.close()"
   ]
  },
  {
   "cell_type": "markdown",
   "metadata": {},
   "source": [
    "### 10) WAP to write first 100 prime numbers to a file named primenumbers.txt \n",
    "(Note: each number should be in new line)"
   ]
  },
  {
   "cell_type": "code",
   "execution_count": 52,
   "metadata": {},
   "outputs": [],
   "source": [
    "import math\n",
    "fp = open('primenumbers.txt', 'w')\n",
    "prime = 0\n",
    "i = 2\n",
    "while prime < 100:\n",
    "    for j in range(2, int(math.sqrt(i))+1):\n",
    "        if i%j == 0:\n",
    "            break\n",
    "    else:\n",
    "        fp.write(str(i) + '\\n')\n",
    "        prime += 1\n",
    "    i += 1\n",
    "fp.close()"
   ]
  },
  {
   "cell_type": "markdown",
   "metadata": {},
   "source": [
    "### 11) WAP to merge two files and write it in a new file."
   ]
  },
  {
   "cell_type": "code",
   "execution_count": 55,
   "metadata": {},
   "outputs": [],
   "source": [
    "fp1 = open('abc.txt')\n",
    "fp2 = open('copy.txt', 'w')\n",
    "file = fp1.read()\n",
    "fp2.write(file + '\\n')\n",
    "fp1.close()\n",
    "fp1 = open('new.txt')\n",
    "file = fp1.read()\n",
    "fp2.write(file)\n",
    "fp1.close()\n",
    "fp2.close()"
   ]
  },
  {
   "cell_type": "markdown",
   "metadata": {},
   "source": [
    "### 12) WAP to replace word1 by word2 of a text file. Write the updated data to new file."
   ]
  },
  {
   "cell_type": "code",
   "execution_count": 57,
   "metadata": {},
   "outputs": [],
   "source": [
    "fp1 = open('abc.txt')\n",
    "fp2 = open('new.txt', 'w')\n",
    "for i in fp1:\n",
    "    i = i.replace('hello', 'hi')\n",
    "    fp2.write(i + '\\n')\n",
    "fp1.close()\n",
    "fp2.close()"
   ]
  },
  {
   "cell_type": "markdown",
   "metadata": {},
   "source": [
    "### 13) Demonstrate tell() and seek() for all the cases(seek from beginning-end-current position) taking a suitable example of your choice."
   ]
  },
  {
   "cell_type": "code",
   "execution_count": 56,
   "metadata": {},
   "outputs": [
    {
     "name": "stdout",
     "output_type": "stream",
     "text": [
      "Before reading pointer is at: 0\n",
      "After reading 2 characters pointer is at:  2\n",
      "After reading 5 characters pointer is at:  5\n",
      "after going to the end of the file, pointer is at: 115\n",
      "Before reading:  0\n",
      "After reading 6 characters, pointer is at: 6\n",
      "After seeking pointer to beginning of the file: 0\n"
     ]
    }
   ],
   "source": [
    "fp = open(\"abc.txt\",\"r\")\n",
    "print(\"Before reading pointer is at:\", fp.tell())\n",
    "fp.read(2)\n",
    "print(\"After reading 2 characters pointer is at: \",fp.tell())\n",
    "fp.read(3)\n",
    "print(\"After reading 5 characters pointer is at: \",fp.tell())\n",
    "fp.read()\n",
    "print(\"after going to the end of the file, pointer is at:\", fp.tell())\n",
    "fp.close()\n",
    "\n",
    "fp = open(\"abc.txt\",\"r\")\n",
    "print(\"Before reading: \",fp.tell())\n",
    "fp.read(6)\n",
    "print(\"After reading 6 characters, pointer is at:\", fp.tell())\n",
    "fp.seek(0,0)\n",
    "print(\"After seeking pointer to beginning of the file:\", fp.tell())\n",
    "fp.close()"
   ]
  }
 ],
 "metadata": {
  "kernelspec": {
   "display_name": "Python 3 (ipykernel)",
   "language": "python",
   "name": "python3"
  },
  "language_info": {
   "codemirror_mode": {
    "name": "ipython",
    "version": 3
   },
   "file_extension": ".py",
   "mimetype": "text/x-python",
   "name": "python",
   "nbconvert_exporter": "python",
   "pygments_lexer": "ipython3",
   "version": "3.10.9"
  }
 },
 "nbformat": 4,
 "nbformat_minor": 4
}
