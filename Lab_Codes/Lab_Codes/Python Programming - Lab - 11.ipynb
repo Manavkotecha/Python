{
 "cells": [
  {
   "cell_type": "markdown",
   "metadata": {},
   "source": [
    "<a href='https://www.darshan.ac.in/'> <img src='https://www.darshan.ac.in/Content/media/DU_Logo.svg' width=\"250\" height=\"300\"/></a>\n",
    "<pre>\n",
    "<center><b><h1>Python Programming - 2301CS404</b></center>\n",
    "<center><b><h1>Lab - 11</b></center>    \n",
    "<pre>"
   ]
  },
  {
   "cell_type": "markdown",
   "metadata": {},
   "source": [
    "# Modules"
   ]
  },
  {
   "cell_type": "markdown",
   "metadata": {},
   "source": [
    "### 01) WAP to create Calculator module which defines functions like add, sub,mul and div. \n",
    "### Create another .py file that uses the functions available in Calculator module."
   ]
  },
  {
   "cell_type": "code",
   "execution_count": 3,
   "metadata": {},
   "outputs": [
    {
     "name": "stdout",
     "output_type": "stream",
     "text": [
      "5\n",
      "3\n"
     ]
    }
   ],
   "source": [
    "import ManavCalc as c\n",
    "\n",
    "print(c.add(2,3))\n",
    "\n",
    "print(c.subtract(5,2))"
   ]
  },
  {
   "cell_type": "markdown",
   "metadata": {},
   "source": [
    "### 02) WAP to pick a random character from a given String."
   ]
  },
  {
   "cell_type": "code",
   "execution_count": 4,
   "metadata": {},
   "outputs": [
    {
     "name": "stdout",
     "output_type": "stream",
     "text": [
      "L\n"
     ]
    }
   ],
   "source": [
    "import random as r\n",
    "\n",
    "print(r.choice(\"HELLO\"))"
   ]
  },
  {
   "cell_type": "markdown",
   "metadata": {},
   "source": [
    "03) WAP to pick a random element from a given list."
   ]
  },
  {
   "cell_type": "code",
   "execution_count": 7,
   "metadata": {
    "scrolled": true
   },
   "outputs": [
    {
     "name": "stdout",
     "output_type": "stream",
     "text": [
      "1\n"
     ]
    }
   ],
   "source": [
    "l1 = [1,5,7,8]\n",
    "print(r.choice(l1))"
   ]
  },
  {
   "cell_type": "markdown",
   "metadata": {},
   "source": [
    "### 04) WAP to roll a dice in such a way that every time you get the same number."
   ]
  },
  {
   "cell_type": "code",
   "execution_count": 10,
   "metadata": {
    "scrolled": true
   },
   "outputs": [
    {
     "name": "stdout",
     "output_type": "stream",
     "text": [
      "1\n"
     ]
    }
   ],
   "source": [
    "r.seed()\n",
    "print(r.choice(range(1,6)))"
   ]
  },
  {
   "cell_type": "markdown",
   "metadata": {},
   "source": [
    "### 05) WAP to generate 3 random integers between 100 and 999 which is divisible by 5."
   ]
  },
  {
   "cell_type": "code",
   "execution_count": 4,
   "metadata": {},
   "outputs": [
    {
     "name": "stdout",
     "output_type": "stream",
     "text": [
      "[515, 760, 155]\n"
     ]
    }
   ],
   "source": [
    "import random as r\n",
    "\n",
    "def generate_random():\n",
    "    numbers = []\n",
    "    while len(numbers) < 3:\n",
    "        num = r.randint(100, 999)\n",
    "        if num % 5 == 0:\n",
    "            numbers.append(num)\n",
    "    return numbers\n",
    "\n",
    "print(generate_random())\n"
   ]
  },
  {
   "cell_type": "markdown",
   "metadata": {},
   "source": [
    "### 06) WAP to generate 100 random lottery tickets and pick two lucky tickets from it and announce them as Winner and Runner up respectively."
   ]
  },
  {
   "cell_type": "code",
   "execution_count": 1,
   "metadata": {},
   "outputs": [
    {
     "name": "stdout",
     "output_type": "stream",
     "text": [
      "Winner: Ticket-74\n",
      "Runner Up: Ticket-70\n"
     ]
    }
   ],
   "source": [
    "import random as r\n",
    "\n",
    "lottery_tickets = [f\"Ticket-{i}\" for i in range(1, 101)]\n",
    "winner = r.choice(lottery_tickets)\n",
    "lottery_tickets.remove(winner)\n",
    "runner_up = r.choice(lottery_tickets)\n",
    "\n",
    "print(\"Winner:\", winner)\n",
    "print(\"Runner Up:\", runner_up)\n"
   ]
  },
  {
   "cell_type": "markdown",
   "metadata": {},
   "source": [
    "### 07) WAP to print current date and time in Python."
   ]
  },
  {
   "cell_type": "code",
   "execution_count": 6,
   "metadata": {},
   "outputs": [
    {
     "name": "stdout",
     "output_type": "stream",
     "text": [
      "Current Date and Time: 2025-02-19 10:44:45.720960\n"
     ]
    }
   ],
   "source": [
    "import datetime as d\n",
    "\n",
    "date = d.datetime.now()\n",
    "print(\"Current Date and Time:\", date)\n"
   ]
  },
  {
   "cell_type": "markdown",
   "metadata": {},
   "source": [
    "### 08) Subtract a week (7 days) from a given date in Python."
   ]
  },
  {
   "cell_type": "code",
   "execution_count": 7,
   "metadata": {},
   "outputs": [
    {
     "name": "stdout",
     "output_type": "stream",
     "text": [
      "New Date (7 days before): 2025-02-12\n"
     ]
    }
   ],
   "source": [
    "import datetime as d\n",
    "\n",
    "date = d.datetime(2025, 2, 19)\n",
    "week = d.timedelta(weeks=1)\n",
    "new_date = date - week\n",
    "print(\"New Date (7 days before):\", new_date.strftime('%Y-%m-%d'))\n"
   ]
  },
  {
   "cell_type": "markdown",
   "metadata": {},
   "source": [
    "### 09) WAP to Calculate number of days between two given dates."
   ]
  },
  {
   "cell_type": "code",
   "execution_count": null,
   "metadata": {},
   "outputs": [],
   "source": [
    "import datetime as d\n",
    "\n",
    "date1 = d.datetime(2025, 2, 1)\n",
    "date2 = d.datetime(2025, 2, 19)\n",
    "difference = date2 - date1\n",
    "print(f\"Number of days between {date1.date()} and {date2.date()} is {difference.days} days.\")\n"
   ]
  },
  {
   "cell_type": "markdown",
   "metadata": {},
   "source": [
    "### 10) WAP to Find the day of the week of a given date.(i.e. wether it is sunday/monday/tuesday/etc.)"
   ]
  },
  {
   "cell_type": "code",
   "execution_count": null,
   "metadata": {},
   "outputs": [],
   "source": [
    "import datetime as d\n",
    "\n",
    "given_date = d.datetime(2025, 2, 19)\n",
    "day_of_week = given_date.strftime('%A') \n",
    "print(f\"The day of the week for {given_date.date()} is {day_of_week}.\")\n"
   ]
  },
  {
   "cell_type": "markdown",
   "metadata": {},
   "source": [
    "### 11) WAP to demonstrate the use of date time module."
   ]
  },
  {
   "cell_type": "code",
   "execution_count": null,
   "metadata": {},
   "outputs": [],
   "source": [
    "import datetime as d\n",
    "\n",
    "current_datetime = d.datetime.now()\n",
    "print(\"Current Date and Time:\", current_datetime)\n",
    "\n",
    "specific_date = d.datetime(2025, 12, 25)\n",
    "print(\"Specific Date:\", specific_date)\n",
    "\n",
    "formatted_date = specific_date.strftime('%Y-%m-%d')\n",
    "print(\"Formatted Date:\", formatted_date)\n"
   ]
  },
  {
   "cell_type": "markdown",
   "metadata": {},
   "source": [
    "### 12) WAP to demonstrate the use of the math module."
   ]
  },
  {
   "cell_type": "code",
   "execution_count": null,
   "metadata": {},
   "outputs": [],
   "source": [
    "import math\n",
    "\n",
    "print(\"Square root of 16:\", math.sqrt(16))\n",
    "\n",
    "print(\"Factorial of 5:\", math.factorial(5))\n",
    "\n",
    "print(\"Value of Pi:\", math.pi)\n",
    "\n",
    "print(\"Cosine of 0 radians:\", math.cos(0))\n"
   ]
  }
 ],
 "metadata": {
  "kernelspec": {
   "display_name": "Python 3 (ipykernel)",
   "language": "python",
   "name": "python3"
  },
  "language_info": {
   "codemirror_mode": {
    "name": "ipython",
    "version": 3
   },
   "file_extension": ".py",
   "mimetype": "text/x-python",
   "name": "python",
   "nbconvert_exporter": "python",
   "pygments_lexer": "ipython3",
   "version": "3.10.9"
  }
 },
 "nbformat": 4,
 "nbformat_minor": 4
}
