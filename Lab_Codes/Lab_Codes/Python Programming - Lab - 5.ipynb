{
 "cells": [
  {
   "cell_type": "markdown",
   "metadata": {},
   "source": [
    "\n",
    "<a href='https://www.darshan.ac.in/'> <img src='https://www.darshan.ac.in/Content/media/DU_Logo.svg' width=\"250\" height=\"300\"/></a>\n",
    "<pre>\n",
    "<center><b><h1>Python Programming - 2301CS404</b></center>\n",
    "<center><b><h1>Lab - 5</b></center>    \n",
    "<pre>"
   ]
  },
  {
   "cell_type": "markdown",
   "metadata": {},
   "source": [
    "# List"
   ]
  },
  {
   "cell_type": "markdown",
   "metadata": {},
   "source": [
    "### 01) WAP to find sum of all the elements in a List."
   ]
  },
  {
   "cell_type": "code",
   "execution_count": 6,
   "metadata": {},
   "outputs": [
    {
     "name": "stdout",
     "output_type": "stream",
     "text": [
      "Sum of elements of list is  15\n"
     ]
    }
   ],
   "source": [
    "l1 = [1, 2, 3, 4, 5]\n",
    "print('Sum of elements of list is', sum(l1))"
   ]
  },
  {
   "cell_type": "markdown",
   "metadata": {},
   "source": [
    "### 02) WAP to find largest element in a List."
   ]
  },
  {
   "cell_type": "code",
   "execution_count": 3,
   "metadata": {},
   "outputs": [
    {
     "name": "stdout",
     "output_type": "stream",
     "text": [
      "Largest element is 100\n"
     ]
    }
   ],
   "source": [
    "l1 = [10, 34, 100, 4, 46, 55, 90]\n",
    "print('Largest element is', max(l1))"
   ]
  },
  {
   "cell_type": "markdown",
   "metadata": {},
   "source": [
    "### 03) WAP to find the length of a List."
   ]
  },
  {
   "cell_type": "code",
   "execution_count": 4,
   "metadata": {},
   "outputs": [
    {
     "name": "stdout",
     "output_type": "stream",
     "text": [
      "Length of the list is 6\n"
     ]
    }
   ],
   "source": [
    "l1 = [1, 2, 3, 4, 5, 6]\n",
    "print('Length of the list is', len(l1))"
   ]
  },
  {
   "cell_type": "markdown",
   "metadata": {},
   "source": [
    "### 04) WAP to interchange first and last elements in a list."
   ]
  },
  {
   "cell_type": "code",
   "execution_count": 5,
   "metadata": {},
   "outputs": [
    {
     "name": "stdout",
     "output_type": "stream",
     "text": [
      "[5, 2, 3, 4, 1]\n"
     ]
    }
   ],
   "source": [
    "l1 = [1, 2, 3, 4, 5]\n",
    "temp = l1[0]\n",
    "l1[0] = l1[len(l1)-1]\n",
    "l1[len(l1)-1] = temp\n",
    "print(l1)"
   ]
  },
  {
   "cell_type": "markdown",
   "metadata": {},
   "source": [
    "### 05) WAP to split the List into two parts and append the first part to the end."
   ]
  },
  {
   "cell_type": "code",
   "execution_count": 7,
   "metadata": {},
   "outputs": [
    {
     "name": "stdout",
     "output_type": "stream",
     "text": [
      "[4, 5, 6, 1, 2, 3]\n"
     ]
    }
   ],
   "source": [
    "l1 = [1, 2, 3, 4, 5, 6]\n",
    "ind = int(len(l1)/2)\n",
    "l2=l1[ind:]+l1[:ind]\n",
    "print(l2)"
   ]
  },
  {
   "cell_type": "markdown",
   "metadata": {},
   "source": [
    "### 06) WAP to interchange the elements on two positions entered by a user."
   ]
  },
  {
   "cell_type": "code",
   "execution_count": 8,
   "metadata": {},
   "outputs": [
    {
     "name": "stdin",
     "output_type": "stream",
     "text": [
      "Enter first index:  2\n",
      "Enter second index:  5\n"
     ]
    },
    {
     "name": "stdout",
     "output_type": "stream",
     "text": [
      "[1, 2, 6, 4, 5, 3]\n"
     ]
    }
   ],
   "source": [
    "l1 = [1, 2, 3, 4, 5, 6]\n",
    "idx1 = int(input('Enter first index: '))\n",
    "idx2 = int(input('Enter second index: '))\n",
    "temp = l1[idx1]\n",
    "l1[idx1] = l1[idx2]\n",
    "l1[idx2] = temp\n",
    "print(l1)"
   ]
  },
  {
   "cell_type": "markdown",
   "metadata": {},
   "source": [
    "### 07) WAP to reverse the list entered by user."
   ]
  },
  {
   "cell_type": "code",
   "execution_count": 11,
   "metadata": {},
   "outputs": [
    {
     "name": "stdin",
     "output_type": "stream",
     "text": [
      "How many elements do you want to enter in the list?  3\n",
      "Enter element:  1\n",
      "Enter element:  2\n",
      "Enter element:  3\n"
     ]
    },
    {
     "name": "stdout",
     "output_type": "stream",
     "text": [
      "Original list is [1, 2, 3]\n",
      "Reversed list is [3, 2, 1]\n"
     ]
    }
   ],
   "source": [
    "n = int(input('How many elements do you want to enter in the list? '))\n",
    "l1 = list()\n",
    "for i in range(n):\n",
    "    num = int(input('Enter element: '))\n",
    "    l1.append(num)\n",
    "print('Original list is', l1)\n",
    "l1 = l1[::-1]\n",
    "print('Reversed list is', l1)"
   ]
  },
  {
   "cell_type": "markdown",
   "metadata": {},
   "source": [
    "### 08) WAP to print even numbers in a list."
   ]
  },
  {
   "cell_type": "code",
   "execution_count": 13,
   "metadata": {},
   "outputs": [
    {
     "name": "stdout",
     "output_type": "stream",
     "text": [
      "Even numbers in the list are:\n",
      "2, 4, 6, 8, 10, "
     ]
    }
   ],
   "source": [
    "l1 = [1, 2, 3, 4, 5, 6, 7, 8, 9, 10]\n",
    "print('Even numbers in the list are:')\n",
    "for i in l1:\n",
    "    if i%2 == 0:\n",
    "        print(i, end=', ')"
   ]
  },
  {
   "cell_type": "markdown",
   "metadata": {},
   "source": [
    "### 09) WAP to count unique items in a list."
   ]
  },
  {
   "cell_type": "code",
   "execution_count": 14,
   "metadata": {},
   "outputs": [
    {
     "name": "stdout",
     "output_type": "stream",
     "text": [
      "Number of unique items in the list are 10\n"
     ]
    }
   ],
   "source": [
    "l1 = [1, 2, 3, 4, 1, 4, 3, 5, 8, 9, 9, 10, 4, 5, 3, 4, 7, 6]\n",
    "s1 = set(l1)\n",
    "print('Number of unique items in the list are', len(s1))"
   ]
  },
  {
   "cell_type": "markdown",
   "metadata": {},
   "source": [
    "### 10) WAP to copy a list."
   ]
  },
  {
   "cell_type": "code",
   "execution_count": 15,
   "metadata": {},
   "outputs": [
    {
     "name": "stdout",
     "output_type": "stream",
     "text": [
      "[1, 2, 3, 4, 5]\n"
     ]
    }
   ],
   "source": [
    "l1 = [1, 2, 3, 4, 5]\n",
    "l2 = l1.copy()\n",
    "print(l2)"
   ]
  },
  {
   "cell_type": "markdown",
   "metadata": {},
   "source": [
    "### 11) WAP to print all odd numbers in a given range."
   ]
  },
  {
   "cell_type": "code",
   "execution_count": 26,
   "metadata": {},
   "outputs": [
    {
     "name": "stdin",
     "output_type": "stream",
     "text": [
      "Enter the list:  5 50\n"
     ]
    },
    {
     "name": "stdout",
     "output_type": "stream",
     "text": [
      "5, 7, 9, 11, 13, 15, 17, 19, 21, 23, 25, 27, 29, 31, 33, 35, 37, 39, 41, 43, 45, 47, 49, "
     ]
    }
   ],
   "source": [
    "l1 = input('Enter the list: ').split()\n",
    "for i in range(int(l1[0]), int(l1[1])+1):\n",
    "    if i%2 == 1:\n",
    "        print(i, end=', ')"
   ]
  },
  {
   "cell_type": "markdown",
   "metadata": {},
   "source": [
    "### 12) WAP to count occurrences of an element in a list."
   ]
  },
  {
   "cell_type": "code",
   "execution_count": 23,
   "metadata": {},
   "outputs": [
    {
     "name": "stdout",
     "output_type": "stream",
     "text": [
      "{10: 2, 20: 3, 30: 4, 40: 1, 50: 1}\n"
     ]
    }
   ],
   "source": [
    "l1 = [10, 20, 10, 30, 40, 30, 30, 30, 20, 50, 20]\n",
    "d1 = {}\n",
    "for i in l1:\n",
    "    if i in d1:\n",
    "        d1[i] += 1\n",
    "    else:\n",
    "        d1[i] = 1\n",
    "print(d1)"
   ]
  },
  {
   "cell_type": "markdown",
   "metadata": {},
   "source": [
    "### 13) WAP to find second largest number in a list."
   ]
  },
  {
   "cell_type": "code",
   "execution_count": 42,
   "metadata": {},
   "outputs": [
    {
     "name": "stdout",
     "output_type": "stream",
     "text": [
      "40\n"
     ]
    }
   ],
   "source": [
    "l1 = [10, 10, 20, 30, 50, 40]\n",
    "s1 = set(l1)\n",
    "l1 = list(s1)\n",
    "l1.sort()\n",
    "print(l1[len(l1)-2])\n",
    "# largest = max(l1)\n",
    "# second_largest = l1[0]\n",
    "# for i in l1:\n",
    "#     if i > second_largest and i < largest:\n",
    "#         second_largest = i\n",
    "# print(second_largest)"
   ]
  },
  {
   "cell_type": "markdown",
   "metadata": {},
   "source": [
    "### 14) WAP to extract elements with frequency greater than K."
   ]
  },
  {
   "cell_type": "code",
   "execution_count": 51,
   "metadata": {},
   "outputs": [
    {
     "name": "stdin",
     "output_type": "stream",
     "text": [
      "Enter frequency:  1\n"
     ]
    },
    {
     "name": "stdout",
     "output_type": "stream",
     "text": [
      "[6]\n"
     ]
    }
   ],
   "source": [
    "l1 = [1, 2, 3, 1, 1, 2, 3, 2, 2, 2, 4, 5, 5, 5, 4, 4, 1, 1, 2, 6, 3, 1, 2, 2, 2]\n",
    "k = int(input('Enter frequency: '))\n",
    "t1 = tuple(l1)\n",
    "s1 = set(l1)\n",
    "for i in s1:\n",
    "    if t1.count(i) > k:\n",
    "        for j in range(t1.count(i)):\n",
    "            l1.remove(i)\n",
    "print(l1)"
   ]
  },
  {
   "cell_type": "markdown",
   "metadata": {},
   "source": [
    "### 15) WAP to create a list of squared numbers from 0 to 9 with and without using List Comprehension."
   ]
  },
  {
   "cell_type": "code",
   "execution_count": 53,
   "metadata": {},
   "outputs": [
    {
     "name": "stdout",
     "output_type": "stream",
     "text": [
      "[0, 1, 4, 9, 16, 25, 36, 49, 64, 81]\n"
     ]
    }
   ],
   "source": [
    "# without list comprehension\n",
    "# l1 = list()\n",
    "# for i in range(10):\n",
    "#     l1.append(i**2)\n",
    "# print(l1)\n",
    "\n",
    "# with list comprehension\n",
    "l1 = [i**2 for i in range(10)]\n",
    "print(l1)"
   ]
  },
  {
   "cell_type": "markdown",
   "metadata": {},
   "source": [
    "### 16) WAP to create a new list (fruit whose name starts with 'b') from the list of fruits given by user."
   ]
  },
  {
   "cell_type": "code",
   "execution_count": 56,
   "metadata": {},
   "outputs": [
    {
     "name": "stdin",
     "output_type": "stream",
     "text": [
      "How many fruits do you want to enter?  2\n",
      "Enter a fruit:  apple\n",
      "Enter a fruit:  banana\n"
     ]
    },
    {
     "name": "stdout",
     "output_type": "stream",
     "text": [
      "['banana']\n"
     ]
    }
   ],
   "source": [
    "n = int(input('How many fruits do you want to enter? '))\n",
    "fruits = []\n",
    "for i in range(n):\n",
    "    fruit = input('Enter a fruit: ')\n",
    "    fruits.append(fruit)\n",
    "fruits2 = [i for i in fruits if i.lower().startswith('b')]\n",
    "print(fruits2)"
   ]
  },
  {
   "cell_type": "markdown",
   "metadata": {},
   "source": [
    "### 17) WAP to create a list of common elements from given two lists."
   ]
  },
  {
   "cell_type": "code",
   "execution_count": 62,
   "metadata": {},
   "outputs": [
    {
     "name": "stdout",
     "output_type": "stream",
     "text": [
      "[4, 5, 6, 7]\n"
     ]
    }
   ],
   "source": [
    "l1 = [1, 2, 3, 4, 5, 6, 7]\n",
    "l2 = [4, 5, 6, 7, 8, 9, 10]\n",
    "l3 = list(set(l1).intersection(set(l2)))\n",
    "print(l3)"
   ]
  }
 ],
 "metadata": {
  "kernelspec": {
   "display_name": "Python 3 (ipykernel)",
   "language": "python",
   "name": "python3"
  },
  "language_info": {
   "codemirror_mode": {
    "name": "ipython",
    "version": 3
   },
   "file_extension": ".py",
   "mimetype": "text/x-python",
   "name": "python",
   "nbconvert_exporter": "python",
   "pygments_lexer": "ipython3",
   "version": "3.13.0"
  },
  "widgets": {
   "application/vnd.jupyter.widget-state+json": {
    "state": {},
    "version_major": 2,
    "version_minor": 0
   }
  }
 },
 "nbformat": 4,
 "nbformat_minor": 4
}
